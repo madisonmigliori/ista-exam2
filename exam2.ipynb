{
 "cells": [
  {
   "cell_type": "code",
   "execution_count": 97,
   "metadata": {},
   "outputs": [],
   "source": [
    "import numpy as np \n",
    "import pandas as pd\n",
    "import matplotlib as plt \n",
    "import seaborn as sns\n",
    "import matplotlib.pyplot as plt\n",
    "from sklearn.metrics import confusion_matrix, classification_report\n"
   ]
  },
  {
   "cell_type": "markdown",
   "metadata": {},
   "source": [
    "## Step 1: Research Problem\n",
    "1. (5 points): If you are not familiar with this kind of scenario, but you were hired for this job in the real world, you would need to learn about it. Find two resources on the internet that are reliable and of good research quality (no forums, blogs, videos, social media, etc...)\n",
    "\n",
    "Resources: \n",
    "1. The Economic & Emotional Cost of Hospital Readmissions: Healthstream.\n",
    "- Source: https://www.healthstream.com/resource/blog/the-economic-emotional-cost-of-hospital-readmissions \n",
    "\n",
    "\n",
    "2. Reducing hospital readmissions\n",
    "- Source: https://www.ncbi.nlm.nih.gov/books/NBK606114/\n",
    "\n",
    "Citations: \n",
    "- Dhaliwal, J. S. (2024, June 7). Reducing hospital readmissions. StatPearls [Internet]. https://www.ncbi.nlm.nih.gov/books/NBK606114/ \n",
    "- The Economic & Emotional Cost of Hospital Readmissions: Healthstream. Default. (2021, April 1). https://www.healthstream.com/resource/blog/the-economic-emotional-cost-of-hospital-readmissions "
   ]
  },
  {
   "cell_type": "markdown",
   "metadata": {},
   "source": [
    "## Step 2: Download the dataset\n",
    "2. (5 points): Download this dataset and assess it using ISLP 3.3 and 3.4 (like how you did for homework 3)."
   ]
  },
  {
   "cell_type": "markdown",
   "metadata": {},
   "source": [
    "### Dataset Overview"
   ]
  },
  {
   "cell_type": "code",
   "execution_count": 98,
   "metadata": {},
   "outputs": [
    {
     "data": {
      "text/html": [
       "<div>\n",
       "<style scoped>\n",
       "    .dataframe tbody tr th:only-of-type {\n",
       "        vertical-align: middle;\n",
       "    }\n",
       "\n",
       "    .dataframe tbody tr th {\n",
       "        vertical-align: top;\n",
       "    }\n",
       "\n",
       "    .dataframe thead th {\n",
       "        text-align: right;\n",
       "    }\n",
       "</style>\n",
       "<table border=\"1\" class=\"dataframe\">\n",
       "  <thead>\n",
       "    <tr style=\"text-align: right;\">\n",
       "      <th></th>\n",
       "      <th>Facility Name</th>\n",
       "      <th>Facility ID</th>\n",
       "      <th>State</th>\n",
       "      <th>Measure Name</th>\n",
       "      <th>Number of Discharges</th>\n",
       "      <th>Footnote</th>\n",
       "      <th>Excess Readmission Ratio</th>\n",
       "      <th>Predicted Readmission Rate</th>\n",
       "      <th>Expected Readmission Rate</th>\n",
       "      <th>Number of Readmissions</th>\n",
       "      <th>Start Date</th>\n",
       "      <th>End Date</th>\n",
       "    </tr>\n",
       "  </thead>\n",
       "  <tbody>\n",
       "    <tr>\n",
       "      <th>0</th>\n",
       "      <td>SOUTHEAST HEALTH MEDICAL CENTER</td>\n",
       "      <td>10001</td>\n",
       "      <td>AL</td>\n",
       "      <td>READM-30-AMI-HRRP</td>\n",
       "      <td>296.0</td>\n",
       "      <td>NaN</td>\n",
       "      <td>0.9483</td>\n",
       "      <td>13.0146</td>\n",
       "      <td>13.7235</td>\n",
       "      <td>36</td>\n",
       "      <td>07/01/2020</td>\n",
       "      <td>06/30/2023</td>\n",
       "    </tr>\n",
       "    <tr>\n",
       "      <th>1</th>\n",
       "      <td>SOUTHEAST HEALTH MEDICAL CENTER</td>\n",
       "      <td>10001</td>\n",
       "      <td>AL</td>\n",
       "      <td>READM-30-CABG-HRRP</td>\n",
       "      <td>151.0</td>\n",
       "      <td>NaN</td>\n",
       "      <td>0.9509</td>\n",
       "      <td>9.6899</td>\n",
       "      <td>10.1898</td>\n",
       "      <td>13</td>\n",
       "      <td>07/01/2020</td>\n",
       "      <td>06/30/2023</td>\n",
       "    </tr>\n",
       "    <tr>\n",
       "      <th>2</th>\n",
       "      <td>SOUTHEAST HEALTH MEDICAL CENTER</td>\n",
       "      <td>10001</td>\n",
       "      <td>AL</td>\n",
       "      <td>READM-30-HF-HRRP</td>\n",
       "      <td>681.0</td>\n",
       "      <td>NaN</td>\n",
       "      <td>1.0597</td>\n",
       "      <td>21.5645</td>\n",
       "      <td>20.3495</td>\n",
       "      <td>151</td>\n",
       "      <td>07/01/2020</td>\n",
       "      <td>06/30/2023</td>\n",
       "    </tr>\n",
       "    <tr>\n",
       "      <th>3</th>\n",
       "      <td>SOUTHEAST HEALTH MEDICAL CENTER</td>\n",
       "      <td>10001</td>\n",
       "      <td>AL</td>\n",
       "      <td>READM-30-HIP-KNEE-HRRP</td>\n",
       "      <td>NaN</td>\n",
       "      <td>NaN</td>\n",
       "      <td>0.9654</td>\n",
       "      <td>4.2680</td>\n",
       "      <td>4.4211</td>\n",
       "      <td>Too Few to Report</td>\n",
       "      <td>07/01/2020</td>\n",
       "      <td>06/30/2023</td>\n",
       "    </tr>\n",
       "    <tr>\n",
       "      <th>4</th>\n",
       "      <td>SOUTHEAST HEALTH MEDICAL CENTER</td>\n",
       "      <td>10001</td>\n",
       "      <td>AL</td>\n",
       "      <td>READM-30-PN-HRRP</td>\n",
       "      <td>490.0</td>\n",
       "      <td>NaN</td>\n",
       "      <td>0.9715</td>\n",
       "      <td>16.1137</td>\n",
       "      <td>16.5863</td>\n",
       "      <td>77</td>\n",
       "      <td>07/01/2020</td>\n",
       "      <td>06/30/2023</td>\n",
       "    </tr>\n",
       "  </tbody>\n",
       "</table>\n",
       "</div>"
      ],
      "text/plain": [
       "                     Facility Name  Facility ID State            Measure Name  \\\n",
       "0  SOUTHEAST HEALTH MEDICAL CENTER        10001    AL       READM-30-AMI-HRRP   \n",
       "1  SOUTHEAST HEALTH MEDICAL CENTER        10001    AL      READM-30-CABG-HRRP   \n",
       "2  SOUTHEAST HEALTH MEDICAL CENTER        10001    AL        READM-30-HF-HRRP   \n",
       "3  SOUTHEAST HEALTH MEDICAL CENTER        10001    AL  READM-30-HIP-KNEE-HRRP   \n",
       "4  SOUTHEAST HEALTH MEDICAL CENTER        10001    AL        READM-30-PN-HRRP   \n",
       "\n",
       "   Number of Discharges  Footnote  Excess Readmission Ratio  \\\n",
       "0                 296.0       NaN                    0.9483   \n",
       "1                 151.0       NaN                    0.9509   \n",
       "2                 681.0       NaN                    1.0597   \n",
       "3                   NaN       NaN                    0.9654   \n",
       "4                 490.0       NaN                    0.9715   \n",
       "\n",
       "   Predicted Readmission Rate  Expected Readmission Rate  \\\n",
       "0                     13.0146                    13.7235   \n",
       "1                      9.6899                    10.1898   \n",
       "2                     21.5645                    20.3495   \n",
       "3                      4.2680                     4.4211   \n",
       "4                     16.1137                    16.5863   \n",
       "\n",
       "  Number of Readmissions  Start Date    End Date  \n",
       "0                     36  07/01/2020  06/30/2023  \n",
       "1                     13  07/01/2020  06/30/2023  \n",
       "2                    151  07/01/2020  06/30/2023  \n",
       "3      Too Few to Report  07/01/2020  06/30/2023  \n",
       "4                     77  07/01/2020  06/30/2023  "
      ]
     },
     "execution_count": 98,
     "metadata": {},
     "output_type": "execute_result"
    }
   ],
   "source": [
    "hospital_df = pd.read_csv('hospital.csv')\n",
    "hospital_df.head()"
   ]
  },
  {
   "cell_type": "code",
   "execution_count": 99,
   "metadata": {},
   "outputs": [
    {
     "data": {
      "text/plain": [
       "(18510, 12)"
      ]
     },
     "execution_count": 99,
     "metadata": {},
     "output_type": "execute_result"
    }
   ],
   "source": [
    "hospital_df.shape"
   ]
  },
  {
   "cell_type": "code",
   "execution_count": 100,
   "metadata": {},
   "outputs": [
    {
     "data": {
      "text/plain": [
       "Index(['Facility Name', 'Facility ID', 'State', 'Measure Name',\n",
       "       'Number of Discharges', 'Footnote', 'Excess Readmission Ratio',\n",
       "       'Predicted Readmission Rate', 'Expected Readmission Rate',\n",
       "       'Number of Readmissions', 'Start Date', 'End Date'],\n",
       "      dtype='object')"
      ]
     },
     "execution_count": 100,
     "metadata": {},
     "output_type": "execute_result"
    }
   ],
   "source": [
    "hospital_df.columns"
   ]
  },
  {
   "cell_type": "code",
   "execution_count": 101,
   "metadata": {},
   "outputs": [
    {
     "name": "stdout",
     "output_type": "stream",
     "text": [
      "<class 'pandas.core.frame.DataFrame'>\n",
      "RangeIndex: 18510 entries, 0 to 18509\n",
      "Data columns (total 12 columns):\n",
      " #   Column                      Non-Null Count  Dtype  \n",
      "---  ------                      --------------  -----  \n",
      " 0   Facility Name               18510 non-null  object \n",
      " 1   Facility ID                 18510 non-null  int64  \n",
      " 2   State                       18510 non-null  object \n",
      " 3   Measure Name                18510 non-null  object \n",
      " 4   Number of Discharges        8340 non-null   float64\n",
      " 5   Footnote                    6583 non-null   float64\n",
      " 6   Excess Readmission Ratio    11927 non-null  float64\n",
      " 7   Predicted Readmission Rate  11927 non-null  float64\n",
      " 8   Expected Readmission Rate   11927 non-null  float64\n",
      " 9   Number of Readmissions      11927 non-null  object \n",
      " 10  Start Date                  18510 non-null  object \n",
      " 11  End Date                    18510 non-null  object \n",
      "dtypes: float64(5), int64(1), object(6)\n",
      "memory usage: 1.7+ MB\n"
     ]
    }
   ],
   "source": [
    "hospital_df.info()"
   ]
  },
  {
   "cell_type": "code",
   "execution_count": 102,
   "metadata": {},
   "outputs": [
    {
     "data": {
      "text/html": [
       "<div>\n",
       "<style scoped>\n",
       "    .dataframe tbody tr th:only-of-type {\n",
       "        vertical-align: middle;\n",
       "    }\n",
       "\n",
       "    .dataframe tbody tr th {\n",
       "        vertical-align: top;\n",
       "    }\n",
       "\n",
       "    .dataframe thead th {\n",
       "        text-align: right;\n",
       "    }\n",
       "</style>\n",
       "<table border=\"1\" class=\"dataframe\">\n",
       "  <thead>\n",
       "    <tr style=\"text-align: right;\">\n",
       "      <th></th>\n",
       "      <th>Facility ID</th>\n",
       "      <th>Number of Discharges</th>\n",
       "      <th>Footnote</th>\n",
       "      <th>Excess Readmission Ratio</th>\n",
       "      <th>Predicted Readmission Rate</th>\n",
       "      <th>Expected Readmission Rate</th>\n",
       "    </tr>\n",
       "  </thead>\n",
       "  <tbody>\n",
       "    <tr>\n",
       "      <th>count</th>\n",
       "      <td>18510.000000</td>\n",
       "      <td>8340.000000</td>\n",
       "      <td>6583.000000</td>\n",
       "      <td>11927.000000</td>\n",
       "      <td>11927.000000</td>\n",
       "      <td>11927.000000</td>\n",
       "    </tr>\n",
       "    <tr>\n",
       "      <th>mean</th>\n",
       "      <td>261770.055105</td>\n",
       "      <td>279.269904</td>\n",
       "      <td>3.187756</td>\n",
       "      <td>1.001719</td>\n",
       "      <td>14.995386</td>\n",
       "      <td>14.961234</td>\n",
       "    </tr>\n",
       "    <tr>\n",
       "      <th>std</th>\n",
       "      <td>164647.739172</td>\n",
       "      <td>266.018069</td>\n",
       "      <td>2.089167</td>\n",
       "      <td>0.080547</td>\n",
       "      <td>5.017854</td>\n",
       "      <td>4.871997</td>\n",
       "    </tr>\n",
       "    <tr>\n",
       "      <th>min</th>\n",
       "      <td>10001.000000</td>\n",
       "      <td>0.000000</td>\n",
       "      <td>1.000000</td>\n",
       "      <td>0.477900</td>\n",
       "      <td>1.674200</td>\n",
       "      <td>2.892100</td>\n",
       "    </tr>\n",
       "    <tr>\n",
       "      <th>25%</th>\n",
       "      <td>110073.000000</td>\n",
       "      <td>115.000000</td>\n",
       "      <td>1.000000</td>\n",
       "      <td>0.956550</td>\n",
       "      <td>12.533000</td>\n",
       "      <td>12.612800</td>\n",
       "    </tr>\n",
       "    <tr>\n",
       "      <th>50%</th>\n",
       "      <td>250048.000000</td>\n",
       "      <td>197.000000</td>\n",
       "      <td>5.000000</td>\n",
       "      <td>0.998200</td>\n",
       "      <td>16.060200</td>\n",
       "      <td>16.146000</td>\n",
       "    </tr>\n",
       "    <tr>\n",
       "      <th>75%</th>\n",
       "      <td>390133.000000</td>\n",
       "      <td>354.000000</td>\n",
       "      <td>5.000000</td>\n",
       "      <td>1.043000</td>\n",
       "      <td>18.609000</td>\n",
       "      <td>18.667350</td>\n",
       "    </tr>\n",
       "    <tr>\n",
       "      <th>max</th>\n",
       "      <td>670327.000000</td>\n",
       "      <td>4501.000000</td>\n",
       "      <td>7.000000</td>\n",
       "      <td>1.643000</td>\n",
       "      <td>27.809500</td>\n",
       "      <td>25.394200</td>\n",
       "    </tr>\n",
       "  </tbody>\n",
       "</table>\n",
       "</div>"
      ],
      "text/plain": [
       "         Facility ID  Number of Discharges     Footnote  \\\n",
       "count   18510.000000           8340.000000  6583.000000   \n",
       "mean   261770.055105            279.269904     3.187756   \n",
       "std    164647.739172            266.018069     2.089167   \n",
       "min     10001.000000              0.000000     1.000000   \n",
       "25%    110073.000000            115.000000     1.000000   \n",
       "50%    250048.000000            197.000000     5.000000   \n",
       "75%    390133.000000            354.000000     5.000000   \n",
       "max    670327.000000           4501.000000     7.000000   \n",
       "\n",
       "       Excess Readmission Ratio  Predicted Readmission Rate  \\\n",
       "count              11927.000000                11927.000000   \n",
       "mean                   1.001719                   14.995386   \n",
       "std                    0.080547                    5.017854   \n",
       "min                    0.477900                    1.674200   \n",
       "25%                    0.956550                   12.533000   \n",
       "50%                    0.998200                   16.060200   \n",
       "75%                    1.043000                   18.609000   \n",
       "max                    1.643000                   27.809500   \n",
       "\n",
       "       Expected Readmission Rate  \n",
       "count               11927.000000  \n",
       "mean                   14.961234  \n",
       "std                     4.871997  \n",
       "min                     2.892100  \n",
       "25%                    12.612800  \n",
       "50%                    16.146000  \n",
       "75%                    18.667350  \n",
       "max                    25.394200  "
      ]
     },
     "execution_count": 102,
     "metadata": {},
     "output_type": "execute_result"
    }
   ],
   "source": [
    "hospital_df.describe()"
   ]
  },
  {
   "cell_type": "markdown",
   "metadata": {},
   "source": [
    "### Dataset Preprocessing"
   ]
  },
  {
   "cell_type": "code",
   "execution_count": 103,
   "metadata": {},
   "outputs": [
    {
     "data": {
      "text/html": [
       "<div>\n",
       "<style scoped>\n",
       "    .dataframe tbody tr th:only-of-type {\n",
       "        vertical-align: middle;\n",
       "    }\n",
       "\n",
       "    .dataframe tbody tr th {\n",
       "        vertical-align: top;\n",
       "    }\n",
       "\n",
       "    .dataframe thead th {\n",
       "        text-align: right;\n",
       "    }\n",
       "</style>\n",
       "<table border=\"1\" class=\"dataframe\">\n",
       "  <thead>\n",
       "    <tr style=\"text-align: right;\">\n",
       "      <th></th>\n",
       "      <th>Facility Name</th>\n",
       "      <th>Facility ID</th>\n",
       "      <th>State</th>\n",
       "      <th>Measure Name</th>\n",
       "      <th>Number of Discharges</th>\n",
       "      <th>Footnote</th>\n",
       "      <th>Excess Readmission Ratio</th>\n",
       "      <th>Predicted Readmission Rate</th>\n",
       "      <th>Expected Readmission Rate</th>\n",
       "      <th>Number of Readmissions</th>\n",
       "      <th>Start Date</th>\n",
       "      <th>End Date</th>\n",
       "    </tr>\n",
       "  </thead>\n",
       "  <tbody>\n",
       "    <tr>\n",
       "      <th>0</th>\n",
       "      <td>False</td>\n",
       "      <td>False</td>\n",
       "      <td>False</td>\n",
       "      <td>False</td>\n",
       "      <td>False</td>\n",
       "      <td>True</td>\n",
       "      <td>False</td>\n",
       "      <td>False</td>\n",
       "      <td>False</td>\n",
       "      <td>False</td>\n",
       "      <td>False</td>\n",
       "      <td>False</td>\n",
       "    </tr>\n",
       "    <tr>\n",
       "      <th>1</th>\n",
       "      <td>False</td>\n",
       "      <td>False</td>\n",
       "      <td>False</td>\n",
       "      <td>False</td>\n",
       "      <td>False</td>\n",
       "      <td>True</td>\n",
       "      <td>False</td>\n",
       "      <td>False</td>\n",
       "      <td>False</td>\n",
       "      <td>False</td>\n",
       "      <td>False</td>\n",
       "      <td>False</td>\n",
       "    </tr>\n",
       "    <tr>\n",
       "      <th>2</th>\n",
       "      <td>False</td>\n",
       "      <td>False</td>\n",
       "      <td>False</td>\n",
       "      <td>False</td>\n",
       "      <td>False</td>\n",
       "      <td>True</td>\n",
       "      <td>False</td>\n",
       "      <td>False</td>\n",
       "      <td>False</td>\n",
       "      <td>False</td>\n",
       "      <td>False</td>\n",
       "      <td>False</td>\n",
       "    </tr>\n",
       "    <tr>\n",
       "      <th>3</th>\n",
       "      <td>False</td>\n",
       "      <td>False</td>\n",
       "      <td>False</td>\n",
       "      <td>False</td>\n",
       "      <td>True</td>\n",
       "      <td>True</td>\n",
       "      <td>False</td>\n",
       "      <td>False</td>\n",
       "      <td>False</td>\n",
       "      <td>False</td>\n",
       "      <td>False</td>\n",
       "      <td>False</td>\n",
       "    </tr>\n",
       "    <tr>\n",
       "      <th>4</th>\n",
       "      <td>False</td>\n",
       "      <td>False</td>\n",
       "      <td>False</td>\n",
       "      <td>False</td>\n",
       "      <td>False</td>\n",
       "      <td>True</td>\n",
       "      <td>False</td>\n",
       "      <td>False</td>\n",
       "      <td>False</td>\n",
       "      <td>False</td>\n",
       "      <td>False</td>\n",
       "      <td>False</td>\n",
       "    </tr>\n",
       "    <tr>\n",
       "      <th>...</th>\n",
       "      <td>...</td>\n",
       "      <td>...</td>\n",
       "      <td>...</td>\n",
       "      <td>...</td>\n",
       "      <td>...</td>\n",
       "      <td>...</td>\n",
       "      <td>...</td>\n",
       "      <td>...</td>\n",
       "      <td>...</td>\n",
       "      <td>...</td>\n",
       "      <td>...</td>\n",
       "      <td>...</td>\n",
       "    </tr>\n",
       "    <tr>\n",
       "      <th>18505</th>\n",
       "      <td>False</td>\n",
       "      <td>False</td>\n",
       "      <td>False</td>\n",
       "      <td>False</td>\n",
       "      <td>True</td>\n",
       "      <td>False</td>\n",
       "      <td>True</td>\n",
       "      <td>True</td>\n",
       "      <td>True</td>\n",
       "      <td>True</td>\n",
       "      <td>False</td>\n",
       "      <td>False</td>\n",
       "    </tr>\n",
       "    <tr>\n",
       "      <th>18506</th>\n",
       "      <td>False</td>\n",
       "      <td>False</td>\n",
       "      <td>False</td>\n",
       "      <td>False</td>\n",
       "      <td>True</td>\n",
       "      <td>False</td>\n",
       "      <td>True</td>\n",
       "      <td>True</td>\n",
       "      <td>True</td>\n",
       "      <td>True</td>\n",
       "      <td>False</td>\n",
       "      <td>False</td>\n",
       "    </tr>\n",
       "    <tr>\n",
       "      <th>18507</th>\n",
       "      <td>False</td>\n",
       "      <td>False</td>\n",
       "      <td>False</td>\n",
       "      <td>False</td>\n",
       "      <td>True</td>\n",
       "      <td>False</td>\n",
       "      <td>True</td>\n",
       "      <td>True</td>\n",
       "      <td>True</td>\n",
       "      <td>True</td>\n",
       "      <td>False</td>\n",
       "      <td>False</td>\n",
       "    </tr>\n",
       "    <tr>\n",
       "      <th>18508</th>\n",
       "      <td>False</td>\n",
       "      <td>False</td>\n",
       "      <td>False</td>\n",
       "      <td>False</td>\n",
       "      <td>True</td>\n",
       "      <td>False</td>\n",
       "      <td>True</td>\n",
       "      <td>True</td>\n",
       "      <td>True</td>\n",
       "      <td>True</td>\n",
       "      <td>False</td>\n",
       "      <td>False</td>\n",
       "    </tr>\n",
       "    <tr>\n",
       "      <th>18509</th>\n",
       "      <td>False</td>\n",
       "      <td>False</td>\n",
       "      <td>False</td>\n",
       "      <td>False</td>\n",
       "      <td>True</td>\n",
       "      <td>False</td>\n",
       "      <td>True</td>\n",
       "      <td>True</td>\n",
       "      <td>True</td>\n",
       "      <td>True</td>\n",
       "      <td>False</td>\n",
       "      <td>False</td>\n",
       "    </tr>\n",
       "  </tbody>\n",
       "</table>\n",
       "<p>18510 rows × 12 columns</p>\n",
       "</div>"
      ],
      "text/plain": [
       "       Facility Name  Facility ID  State  Measure Name  Number of Discharges  \\\n",
       "0              False        False  False         False                 False   \n",
       "1              False        False  False         False                 False   \n",
       "2              False        False  False         False                 False   \n",
       "3              False        False  False         False                  True   \n",
       "4              False        False  False         False                 False   \n",
       "...              ...          ...    ...           ...                   ...   \n",
       "18505          False        False  False         False                  True   \n",
       "18506          False        False  False         False                  True   \n",
       "18507          False        False  False         False                  True   \n",
       "18508          False        False  False         False                  True   \n",
       "18509          False        False  False         False                  True   \n",
       "\n",
       "       Footnote  Excess Readmission Ratio  Predicted Readmission Rate  \\\n",
       "0          True                     False                       False   \n",
       "1          True                     False                       False   \n",
       "2          True                     False                       False   \n",
       "3          True                     False                       False   \n",
       "4          True                     False                       False   \n",
       "...         ...                       ...                         ...   \n",
       "18505     False                      True                        True   \n",
       "18506     False                      True                        True   \n",
       "18507     False                      True                        True   \n",
       "18508     False                      True                        True   \n",
       "18509     False                      True                        True   \n",
       "\n",
       "       Expected Readmission Rate  Number of Readmissions  Start Date  End Date  \n",
       "0                          False                   False       False     False  \n",
       "1                          False                   False       False     False  \n",
       "2                          False                   False       False     False  \n",
       "3                          False                   False       False     False  \n",
       "4                          False                   False       False     False  \n",
       "...                          ...                     ...         ...       ...  \n",
       "18505                       True                    True       False     False  \n",
       "18506                       True                    True       False     False  \n",
       "18507                       True                    True       False     False  \n",
       "18508                       True                    True       False     False  \n",
       "18509                       True                    True       False     False  \n",
       "\n",
       "[18510 rows x 12 columns]"
      ]
     },
     "execution_count": 103,
     "metadata": {},
     "output_type": "execute_result"
    }
   ],
   "source": [
    "hospital_df.isna()"
   ]
  },
  {
   "cell_type": "code",
   "execution_count": 104,
   "metadata": {},
   "outputs": [
    {
     "data": {
      "text/plain": [
       "Facility Name                     0\n",
       "Facility ID                       0\n",
       "State                             0\n",
       "Measure Name                      0\n",
       "Number of Discharges          10170\n",
       "Footnote                      11927\n",
       "Excess Readmission Ratio       6583\n",
       "Predicted Readmission Rate     6583\n",
       "Expected Readmission Rate      6583\n",
       "Number of Readmissions         6583\n",
       "Start Date                        0\n",
       "End Date                          0\n",
       "dtype: int64"
      ]
     },
     "execution_count": 104,
     "metadata": {},
     "output_type": "execute_result"
    }
   ],
   "source": [
    "hospital_df.isna().sum()"
   ]
  },
  {
   "cell_type": "code",
   "execution_count": 105,
   "metadata": {},
   "outputs": [],
   "source": [
    "## I tried making a subset with droping only NA for footnotes but then it deleted the whole dataset so therefore I am removing the column since its justs about notes\n",
    "hospital_df.drop(columns=['Footnote'], inplace=True)\n"
   ]
  },
  {
   "cell_type": "code",
   "execution_count": 106,
   "metadata": {},
   "outputs": [],
   "source": [
    "hospital_df_clean = hospital_df.dropna(subset=[\n",
    "    \"Number of Discharges\",\n",
    "    \"Excess Readmission Ratio\",\n",
    "    \"Predicted Readmission Rate\",\n",
    "    \"Expected Readmission Rate\",\n",
    "    \"Number of Readmissions\"\n",
    "])"
   ]
  },
  {
   "cell_type": "code",
   "execution_count": 107,
   "metadata": {},
   "outputs": [
    {
     "data": {
      "text/plain": [
       "(8121, 11)"
      ]
     },
     "execution_count": 107,
     "metadata": {},
     "output_type": "execute_result"
    }
   ],
   "source": [
    "hospital_df_clean.shape"
   ]
  },
  {
   "cell_type": "code",
   "execution_count": 108,
   "metadata": {},
   "outputs": [
    {
     "data": {
      "text/plain": [
       "Facility Name                 0\n",
       "Facility ID                   0\n",
       "State                         0\n",
       "Measure Name                  0\n",
       "Number of Discharges          0\n",
       "Excess Readmission Ratio      0\n",
       "Predicted Readmission Rate    0\n",
       "Expected Readmission Rate     0\n",
       "Number of Readmissions        0\n",
       "Start Date                    0\n",
       "End Date                      0\n",
       "dtype: int64"
      ]
     },
     "execution_count": 108,
     "metadata": {},
     "output_type": "execute_result"
    }
   ],
   "source": [
    "hospital_df_clean.isna().sum()"
   ]
  },
  {
   "cell_type": "markdown",
   "metadata": {},
   "source": [
    "## Step 3: Describe Each Variable\n",
    "3. (5 points): Describe each of the 12 variables in your own words, then mention the datatype of each."
   ]
  },
  {
   "cell_type": "markdown",
   "metadata": {},
   "source": [
    "**Facility Name:**\n",
    "- The name of the hospital\n",
    "\n",
    "**Facility ID:**\n",
    "- The id of the hospital\n",
    "\n",
    "**State:** \n",
    "- The state where the hospital is located\n",
    "\n",
    "**Measure Name:** \n",
    "- The medical condition that is causing the readmission\n",
    "\n",
    "**Number of Discharges:** \n",
    "- The total number of patients for that specific medical condition\n",
    "\n",
    "**Footnote:** \n",
    "- Notes about the medical condition\n",
    "\n",
    "**Excess Readmission Ratio:** \n",
    "- The rate comparing to expected readmission rate\n",
    "\n",
    "**Predicted Readmission Rate:** \n",
    "- The predict percentage that patients will be readmitted\n",
    "\n",
    "**Expected Readmission Rate:** \n",
    "- The expected percentage that patients will be readmitted\n",
    "\n",
    "**Number of Readmissions:** \n",
    "- The actual number of readmitted patients\n",
    "\n",
    "**Start Date:** \n",
    "- The start date of the data being collected\n",
    "\n",
    " **End Date:**\n",
    " - The end date of the data being collected                   "
   ]
  },
  {
   "cell_type": "code",
   "execution_count": 109,
   "metadata": {},
   "outputs": [
    {
     "data": {
      "text/plain": [
       "Facility Name                  object\n",
       "Facility ID                     int64\n",
       "State                          object\n",
       "Measure Name                   object\n",
       "Number of Discharges          float64\n",
       "Excess Readmission Ratio      float64\n",
       "Predicted Readmission Rate    float64\n",
       "Expected Readmission Rate     float64\n",
       "Number of Readmissions         object\n",
       "Start Date                     object\n",
       "End Date                       object\n",
       "dtype: object"
      ]
     },
     "execution_count": 109,
     "metadata": {},
     "output_type": "execute_result"
    }
   ],
   "source": [
    "hospital_df.dtypes\n",
    "\n",
    "## Drop Footnote but was a float64"
   ]
  },
  {
   "cell_type": "code",
   "execution_count": 110,
   "metadata": {},
   "outputs": [],
   "source": [
    "hospital_df_clean = hospital_df_clean.copy()\n",
    "\n",
    "hospital_df_clean[\"Number of Readmissions\"] = pd.to_numeric(hospital_df_clean[\"Number of Readmissions\"], errors=\"coerce\")\n",
    "hospital_df_clean[\"Start Date\"] = pd.to_datetime(hospital_df_clean[\"Start Date\"])\n",
    "hospital_df_clean[\"End Date\"] = pd.to_datetime(hospital_df_clean[\"End Date\"])\n"
   ]
  },
  {
   "cell_type": "code",
   "execution_count": 111,
   "metadata": {},
   "outputs": [
    {
     "data": {
      "text/plain": [
       "Facility Name                         object\n",
       "Facility ID                            int64\n",
       "State                                 object\n",
       "Measure Name                          object\n",
       "Number of Discharges                 float64\n",
       "Excess Readmission Ratio             float64\n",
       "Predicted Readmission Rate           float64\n",
       "Expected Readmission Rate            float64\n",
       "Number of Readmissions                 int64\n",
       "Start Date                    datetime64[ns]\n",
       "End Date                      datetime64[ns]\n",
       "dtype: object"
      ]
     },
     "execution_count": 111,
     "metadata": {},
     "output_type": "execute_result"
    }
   ],
   "source": [
    "hospital_df_clean.dtypes"
   ]
  },
  {
   "cell_type": "markdown",
   "metadata": {},
   "source": [
    "## Step 4: Research Question\n",
    "- (5 points): Form your research question that can be answered by this dataset."
   ]
  },
  {
   "cell_type": "code",
   "execution_count": 112,
   "metadata": {},
   "outputs": [
    {
     "data": {
      "text/html": [
       "<div>\n",
       "<style scoped>\n",
       "    .dataframe tbody tr th:only-of-type {\n",
       "        vertical-align: middle;\n",
       "    }\n",
       "\n",
       "    .dataframe tbody tr th {\n",
       "        vertical-align: top;\n",
       "    }\n",
       "\n",
       "    .dataframe thead th {\n",
       "        text-align: right;\n",
       "    }\n",
       "</style>\n",
       "<table border=\"1\" class=\"dataframe\">\n",
       "  <thead>\n",
       "    <tr style=\"text-align: right;\">\n",
       "      <th></th>\n",
       "      <th>Facility ID</th>\n",
       "      <th>Number of Discharges</th>\n",
       "      <th>Excess Readmission Ratio</th>\n",
       "      <th>Predicted Readmission Rate</th>\n",
       "      <th>Expected Readmission Rate</th>\n",
       "      <th>Number of Readmissions</th>\n",
       "      <th>Start Date</th>\n",
       "      <th>End Date</th>\n",
       "    </tr>\n",
       "  </thead>\n",
       "  <tbody>\n",
       "    <tr>\n",
       "      <th>count</th>\n",
       "      <td>8121.000000</td>\n",
       "      <td>8121.00000</td>\n",
       "      <td>8121.000000</td>\n",
       "      <td>8121.000000</td>\n",
       "      <td>8121.000000</td>\n",
       "      <td>8121.000000</td>\n",
       "      <td>8121</td>\n",
       "      <td>8121</td>\n",
       "    </tr>\n",
       "    <tr>\n",
       "      <th>mean</th>\n",
       "      <td>256179.848295</td>\n",
       "      <td>286.80101</td>\n",
       "      <td>1.009233</td>\n",
       "      <td>16.696794</td>\n",
       "      <td>16.549613</td>\n",
       "      <td>48.074868</td>\n",
       "      <td>2020-06-30 23:59:59.999999744</td>\n",
       "      <td>2023-06-30 00:00:00</td>\n",
       "    </tr>\n",
       "    <tr>\n",
       "      <th>min</th>\n",
       "      <td>10001.000000</td>\n",
       "      <td>25.00000</td>\n",
       "      <td>0.477900</td>\n",
       "      <td>1.674200</td>\n",
       "      <td>2.892100</td>\n",
       "      <td>11.000000</td>\n",
       "      <td>2020-07-01 00:00:00</td>\n",
       "      <td>2023-06-30 00:00:00</td>\n",
       "    </tr>\n",
       "    <tr>\n",
       "      <th>25%</th>\n",
       "      <td>110042.000000</td>\n",
       "      <td>120.00000</td>\n",
       "      <td>0.963500</td>\n",
       "      <td>14.701200</td>\n",
       "      <td>14.779000</td>\n",
       "      <td>19.000000</td>\n",
       "      <td>2020-07-01 00:00:00</td>\n",
       "      <td>2023-06-30 00:00:00</td>\n",
       "    </tr>\n",
       "    <tr>\n",
       "      <th>50%</th>\n",
       "      <td>250001.000000</td>\n",
       "      <td>203.00000</td>\n",
       "      <td>1.007200</td>\n",
       "      <td>17.258700</td>\n",
       "      <td>17.185500</td>\n",
       "      <td>31.000000</td>\n",
       "      <td>2020-07-01 00:00:00</td>\n",
       "      <td>2023-06-30 00:00:00</td>\n",
       "    </tr>\n",
       "    <tr>\n",
       "      <th>75%</th>\n",
       "      <td>390001.000000</td>\n",
       "      <td>361.00000</td>\n",
       "      <td>1.052700</td>\n",
       "      <td>19.324900</td>\n",
       "      <td>19.200500</td>\n",
       "      <td>59.000000</td>\n",
       "      <td>2020-07-01 00:00:00</td>\n",
       "      <td>2023-06-30 00:00:00</td>\n",
       "    </tr>\n",
       "    <tr>\n",
       "      <th>max</th>\n",
       "      <td>670260.000000</td>\n",
       "      <td>4501.00000</td>\n",
       "      <td>1.643000</td>\n",
       "      <td>27.809500</td>\n",
       "      <td>25.394200</td>\n",
       "      <td>877.000000</td>\n",
       "      <td>2020-07-01 00:00:00</td>\n",
       "      <td>2023-06-30 00:00:00</td>\n",
       "    </tr>\n",
       "    <tr>\n",
       "      <th>std</th>\n",
       "      <td>155404.795012</td>\n",
       "      <td>265.54472</td>\n",
       "      <td>0.078230</td>\n",
       "      <td>3.862805</td>\n",
       "      <td>3.656800</td>\n",
       "      <td>48.488707</td>\n",
       "      <td>NaN</td>\n",
       "      <td>NaN</td>\n",
       "    </tr>\n",
       "  </tbody>\n",
       "</table>\n",
       "</div>"
      ],
      "text/plain": [
       "         Facility ID  Number of Discharges  Excess Readmission Ratio  \\\n",
       "count    8121.000000            8121.00000               8121.000000   \n",
       "mean   256179.848295             286.80101                  1.009233   \n",
       "min     10001.000000              25.00000                  0.477900   \n",
       "25%    110042.000000             120.00000                  0.963500   \n",
       "50%    250001.000000             203.00000                  1.007200   \n",
       "75%    390001.000000             361.00000                  1.052700   \n",
       "max    670260.000000            4501.00000                  1.643000   \n",
       "std    155404.795012             265.54472                  0.078230   \n",
       "\n",
       "       Predicted Readmission Rate  Expected Readmission Rate  \\\n",
       "count                 8121.000000                8121.000000   \n",
       "mean                    16.696794                  16.549613   \n",
       "min                      1.674200                   2.892100   \n",
       "25%                     14.701200                  14.779000   \n",
       "50%                     17.258700                  17.185500   \n",
       "75%                     19.324900                  19.200500   \n",
       "max                     27.809500                  25.394200   \n",
       "std                      3.862805                   3.656800   \n",
       "\n",
       "       Number of Readmissions                     Start Date  \\\n",
       "count             8121.000000                           8121   \n",
       "mean                48.074868  2020-06-30 23:59:59.999999744   \n",
       "min                 11.000000            2020-07-01 00:00:00   \n",
       "25%                 19.000000            2020-07-01 00:00:00   \n",
       "50%                 31.000000            2020-07-01 00:00:00   \n",
       "75%                 59.000000            2020-07-01 00:00:00   \n",
       "max                877.000000            2020-07-01 00:00:00   \n",
       "std                 48.488707                            NaN   \n",
       "\n",
       "                  End Date  \n",
       "count                 8121  \n",
       "mean   2023-06-30 00:00:00  \n",
       "min    2023-06-30 00:00:00  \n",
       "25%    2023-06-30 00:00:00  \n",
       "50%    2023-06-30 00:00:00  \n",
       "75%    2023-06-30 00:00:00  \n",
       "max    2023-06-30 00:00:00  \n",
       "std                    NaN  "
      ]
     },
     "execution_count": 112,
     "metadata": {},
     "output_type": "execute_result"
    }
   ],
   "source": [
    "hospital_df_clean.describe()"
   ]
  },
  {
   "cell_type": "code",
   "execution_count": 113,
   "metadata": {},
   "outputs": [
    {
     "data": {
      "text/plain": [
       "array(['READM-30-AMI-HRRP', 'READM-30-CABG-HRRP', 'READM-30-HF-HRRP',\n",
       "       'READM-30-PN-HRRP', 'READM-30-COPD-HRRP', 'READM-30-HIP-KNEE-HRRP'],\n",
       "      dtype=object)"
      ]
     },
     "execution_count": 113,
     "metadata": {},
     "output_type": "execute_result"
    }
   ],
   "source": [
    "hospital_df_clean[\"Measure Name\"].unique()\n"
   ]
  },
  {
   "cell_type": "code",
   "execution_count": 114,
   "metadata": {},
   "outputs": [
    {
     "data": {
      "text/plain": [
       "6"
      ]
     },
     "execution_count": 114,
     "metadata": {},
     "output_type": "execute_result"
    }
   ],
   "source": [
    "hospital_df_clean[\"Measure Name\"].nunique()\n"
   ]
  },
  {
   "cell_type": "code",
   "execution_count": 115,
   "metadata": {},
   "outputs": [
    {
     "data": {
      "text/plain": [
       "Measure Name\n",
       "READM-30-HF-HRRP          2342\n",
       "READM-30-PN-HRRP          2305\n",
       "READM-30-COPD-HRRP        1550\n",
       "READM-30-AMI-HRRP         1244\n",
       "READM-30-CABG-HRRP         383\n",
       "READM-30-HIP-KNEE-HRRP     297\n",
       "Name: count, dtype: int64"
      ]
     },
     "execution_count": 115,
     "metadata": {},
     "output_type": "execute_result"
    }
   ],
   "source": [
    "hospital_df_clean[\"Measure Name\"].value_counts()\n"
   ]
  },
  {
   "cell_type": "markdown",
   "metadata": {},
   "source": [
    "*Data Dictionary:*\n",
    "- READM-30-HF-HRRP: Heart Failure\n",
    "- READM-30-PN-HRRP: Pneumonia\n",
    "- READM-30-COPD-HRRP: Chronic Obstructive Pulmonary Disease\n",
    "- READM-30-AMI-HRRP: Acute Myocardial Infarction\n",
    "- READM-30-CABG-HRRP: Coronary Artery Bypass Graft\n",
    "- READM-30-HIP-KNEE-HRRP: Total Hip/Knee Arthroplasty"
   ]
  },
  {
   "cell_type": "markdown",
   "metadata": {},
   "source": [
    "### *Research Question*\n",
    "\n",
    "What is the possibility based off the type of condition based on the predicted readmission rates and number of discharges?\n",
    "\n",
    "\n"
   ]
  },
  {
   "cell_type": "markdown",
   "metadata": {},
   "source": [
    "## Step 5: Justifying to Board\n",
    "- (5 points): Explain why your research question would be interesting to the board-- do not tailor your research question to me just because I'm your machine learning instructor. I'm interested in your model, but the board cares about money/patients"
   ]
  },
  {
   "cell_type": "markdown",
   "metadata": {},
   "source": [
    "### Justification\n",
    "- By anaylzing the predicted readmission rates based off the type of conditions, hospitals can cater to those patients, which could save money on excessive/unnessecary treatment, ensure being discharge instructions, and overall improving the patient care. This insight can provide the hospital new evidence to better use resource, potentially save money, and happier patients :). Happier Patients means less patients which means staff doesn't have to be burned out and meaning we are conserving resources. "
   ]
  },
  {
   "cell_type": "markdown",
   "metadata": {},
   "source": [
    "## Step 6: Logistic Regression (Multi) \n",
    "- (40 points): Choose any algorithm from chapter 5, 6, 7, or 8 to answer your research question. Explain your choice. For example, if you choose Lasso then be sure you apply lasso to your logistic or linear regression model. If you choose a decision tree, make sure your choice is informative for the board. Not too easy or insulting."
   ]
  },
  {
   "cell_type": "code",
   "execution_count": 116,
   "metadata": {},
   "outputs": [],
   "source": [
    "class MultinomialLogisticRegression:\n",
    "    def __init__(self, lr=0.01, epochs=1000):\n",
    "        self.lr = lr\n",
    "        self.epochs = epochs\n",
    "        self.weights = None\n",
    "\n",
    "    # One hot encoding the measures\n",
    "    def one_hot(self, y, num_classes): \n",
    "        return np.eye(num_classes)[y]\n",
    "\n",
    "    def softmax(self, z):\n",
    "        z -= np.max(z, axis=1, keepdims=True)\n",
    "        exp_scores = np.exp(z)\n",
    "        return exp_scores / np.sum(exp_scores, axis=1, keepdims=True)\n",
    "\n",
    "    def cross_entropy(self, probs, Y):\n",
    "        return -np.mean(np.sum(Y * np.log(probs + 1e-9), axis=1))\n",
    "\n",
    "    def fit(self, X, y):\n",
    "        X = np.c_[np.ones((X.shape[0], 1)), X]\n",
    "        self.X_train = X\n",
    "        num_samples, num_features = X.shape\n",
    "        self.num_classes = len(np.unique(y))\n",
    "\n",
    "        Y = self.one_hot(y, self.num_classes)\n",
    "\n",
    "        #\n",
    "        self.weights = np.random.randn(num_features, self.num_classes)\n",
    "\n",
    "        for epoch in range(self.epochs):\n",
    "            logits = X @ self.weights  # shape: (N, K)\n",
    "            probs = self.softmax(logits)  # shape: (N, K)\n",
    "            loss = self.cross_entropy(probs, Y)\n",
    "\n",
    "            grad = X.T @ (probs - Y) / num_samples\n",
    "            self.weights -= self.lr * grad\n",
    "\n",
    "            if epoch % 100 == 0:\n",
    "                print(f\"Epoch {epoch}, Loss: {loss:.4f}\")\n",
    "\n",
    "    def predict_proba(self, X):\n",
    "        X = np.c_[np.ones((X.shape[0], 1)), X]\n",
    "        logits = X @ self.weights\n",
    "        return self.softmax(logits)\n",
    "\n",
    "    def predict(self, X):\n",
    "        probs = self.predict_proba(X)\n",
    "        return np.argmax(probs, axis=1)\n"
   ]
  },
  {
   "cell_type": "code",
   "execution_count": 117,
   "metadata": {},
   "outputs": [
    {
     "name": "stdout",
     "output_type": "stream",
     "text": [
      "Epoch 0, Loss: 16.7656\n",
      "Epoch 100, Loss: 14.7469\n",
      "Epoch 200, Loss: 14.6457\n",
      "Epoch 300, Loss: 14.7842\n",
      "Epoch 400, Loss: 14.0457\n",
      "Epoch 500, Loss: 14.2396\n",
      "Epoch 600, Loss: 18.2560\n",
      "Epoch 700, Loss: 17.4226\n",
      "Epoch 800, Loss: 14.1859\n",
      "Epoch 900, Loss: 16.1111\n",
      "Accuracy: 0.23543898534663218\n"
     ]
    }
   ],
   "source": [
    "# One hot coding the Measure Names over the Predicted Rate & Number of Discharges\n",
    "X = hospital_df_clean[[\"Predicted Readmission Rate\", \"Number of Discharges\"]].values\n",
    "y_raw = hospital_df_clean[\"Measure Name\"].astype(\"category\")\n",
    "y = y_raw.cat.codes.values \n",
    "\n",
    "model = MultinomialLogisticRegression(lr=0.01, epochs=1000)\n",
    "model.fit(X, y)\n",
    "\n",
    "preds = model.predict(X)\n",
    "\n",
    "accuracy = np.mean(preds == y)\n",
    "print(\"Accuracy:\", accuracy)\n"
   ]
  },
  {
   "cell_type": "code",
   "execution_count": 118,
   "metadata": {},
   "outputs": [
    {
     "name": "stdout",
     "output_type": "stream",
     "text": [
      "Number of classes: 6\n"
     ]
    }
   ],
   "source": [
    "print(\"Number of classes:\", len(np.unique(y)))\n"
   ]
  },
  {
   "cell_type": "markdown",
   "metadata": {},
   "source": [
    "Having 6 classes the expected randomness is 1/6 which is 16.67% so having the accuracy as double of 35.1% is great"
   ]
  },
  {
   "cell_type": "code",
   "execution_count": 119,
   "metadata": {},
   "outputs": [
    {
     "data": {
      "image/png": "[encoded data removed]",
      "text/plain": [
       "<Figure size 640x480 with 1 Axes>"
      ]
     },
     "metadata": {},
     "output_type": "display_data"
    }
   ],
   "source": [
    "df_plot = hospital_df_clean.copy()\n",
    "df_plot[\"label\"] = y_raw\n",
    "\n",
    "sns.scatterplot(data=df_plot,\n",
    "                x=\"Predicted Readmission Rate\",\n",
    "                y=\"Number of Discharges\",\n",
    "                hue=\"label\",\n",
    "                palette=\"tab10\")\n",
    "plt.title(\"Feature Distribution by Class\")\n",
    "plt.show()\n"
   ]
  },
  {
   "cell_type": "markdown",
   "metadata": {},
   "source": [
    "Anyalsis: \n",
    "- Hip/Knee has low readmission rates (< 10%)\n",
    "- Heart Failure has higher rates (17-25%)\n",
    "- Pneumonia has around 10-25% of readmission but is more spread out \n",
    "- AMI and CABG is around 10-15%\n",
    "- COPD is more distributed around 15-25%\n",
    "\n",
    "Hip/Knee shows a high number of discharges with low readmisson so that means the hositipal are doing well. However Heart failure has many discharges and high readmission, which is not good. Research should go into heart failure."
   ]
  },
  {
   "cell_type": "markdown",
   "metadata": {},
   "source": [
    "## Step 7: Validating\n",
    "- (15 points): You need to validate your algorithm! If you want to use a package for this, that is okay."
   ]
  },
  {
   "cell_type": "code",
   "execution_count": 120,
   "metadata": {},
   "outputs": [
    {
     "name": "stderr",
     "output_type": "stream",
     "text": [
      "<>:42: SyntaxWarning: invalid escape sequence '\\A'\n",
      "<>:42: SyntaxWarning: invalid escape sequence '\\A'\n",
      "/var/folders/xk/1bp4zhps6czgttf1kbb3b86c0000gn/T/ipykernel_39791/2292660299.py:42: SyntaxWarning: invalid escape sequence '\\A'\n",
      "  print(\"\\All Folds Classification Report:\")\n"
     ]
    }
   ],
   "source": [
    "\n",
    "def k_fold_cross_validation(model_class, X, y, k=5, lr=0.001, epochs=2000):\n",
    "    n_samples = len(X)\n",
    "    indices = np.arange(n_samples)\n",
    "    np.random.shuffle(indices)\n",
    "\n",
    "    fold_size = n_samples // k\n",
    "    accuracies = []\n",
    "    all_y_true = []\n",
    "    all_y_pred = []\n",
    "\n",
    "    for i in range(k):\n",
    "        test_idx = indices[i * fold_size : (i + 1) * fold_size]\n",
    "        train_idx = np.concatenate([indices[:i * fold_size], indices[(i + 1) * fold_size:]])\n",
    "\n",
    "        X_train, y_train = X[train_idx], y[train_idx]\n",
    "        X_test, y_test = X[test_idx], y[test_idx]\n",
    "\n",
    "        model = model_class(lr=lr, epochs=epochs)\n",
    "        model.fit(X_train, y_train)\n",
    "\n",
    "        y_pred = model.predict(X_test)\n",
    "        accuracy = np.mean(y_pred == y_test)\n",
    "        accuracies.append(accuracy)\n",
    "        all_y_true.extend(y_test)\n",
    "        all_y_pred.extend(y_pred)\n",
    "\n",
    "        print(f\"\\nFold {i+1}, Accuracy: {accuracy:.4f}\")\n",
    "        print(\"Classification Report:\")\n",
    "        print(classification_report(y_test, y_pred, zero_division=0))\n",
    "\n",
    "        cm = confusion_matrix(y_test, y_pred)\n",
    "        plt.figure(figsize=(6, 5))\n",
    "        sns.heatmap(cm, annot=True, fmt=\"d\", cmap=\"Blues\")\n",
    "        plt.title(f\"Confusion Matrix for Fold {i+1}\")\n",
    "        plt.xlabel(\"Predicted\")\n",
    "        plt.ylabel(\"Actual\")\n",
    "        plt.show()\n",
    "\n",
    "    average_accuracy = np.mean(accuracies)\n",
    "    print(f\"\\nAverage Accuracy over {k} folds: {average_accuracy:.4f}\")\n",
    "\n",
    "    print(\"\\All Folds Classification Report:\")\n",
    "    print(classification_report(all_y_true, all_y_pred, zero_division=0))\n",
    "\n",
    "    return average_accuracy\n"
   ]
  },
  {
   "cell_type": "code",
   "execution_count": 121,
   "metadata": {},
   "outputs": [
    {
     "name": "stdout",
     "output_type": "stream",
     "text": [
      "Epoch 0, Loss: 14.7729\n",
      "Epoch 100, Loss: 16.2542\n",
      "Epoch 200, Loss: 14.6712\n",
      "Epoch 300, Loss: 14.8285\n",
      "Epoch 400, Loss: 13.3615\n",
      "Epoch 500, Loss: 16.2274\n",
      "Epoch 600, Loss: 14.1841\n",
      "Epoch 700, Loss: 14.0051\n",
      "Epoch 800, Loss: 14.5455\n",
      "Epoch 900, Loss: 17.5421\n",
      "\n",
      "Fold 1, Accuracy: 0.2962\n",
      "Classification Report:\n",
      "              precision    recall  f1-score   support\n",
      "\n",
      "           0       0.18      0.48      0.26       251\n",
      "           1       0.00      0.00      0.00        83\n",
      "           2       0.47      0.48      0.48       294\n",
      "           3       0.00      0.00      0.00       477\n",
      "           4       0.00      0.00      0.00        55\n",
      "           5       0.34      0.47      0.39       464\n",
      "\n",
      "    accuracy                           0.30      1624\n",
      "   macro avg       0.16      0.24      0.19      1624\n",
      "weighted avg       0.21      0.30      0.24      1624\n",
      "\n"
     ]
    },
    {
     "data": {
      "image/png": "[encoded data removed]",
      "text/plain": [
       "<Figure size 600x500 with 2 Axes>"
      ]
     },
     "metadata": {},
     "output_type": "display_data"
    },
    {
     "name": "stdout",
     "output_type": "stream",
     "text": [
      "Epoch 0, Loss: 14.7618\n",
      "Epoch 100, Loss: 14.8240\n",
      "Epoch 200, Loss: 17.5128\n",
      "Epoch 300, Loss: 12.9116\n",
      "Epoch 400, Loss: 14.4364\n",
      "Epoch 500, Loss: 13.4648\n",
      "Epoch 600, Loss: 17.4298\n",
      "Epoch 700, Loss: 12.8789\n",
      "Epoch 800, Loss: 12.7828\n",
      "Epoch 900, Loss: 16.6024\n",
      "\n",
      "Fold 2, Accuracy: 0.2956\n",
      "Classification Report:\n",
      "              precision    recall  f1-score   support\n",
      "\n",
      "           0       0.00      0.00      0.00       239\n",
      "           1       0.00      0.00      0.00        73\n",
      "           2       0.45      0.18      0.25       313\n",
      "           3       0.00      0.00      0.00       501\n",
      "           4       0.00      0.00      0.00        62\n",
      "           5       0.28      0.97      0.44       436\n",
      "\n",
      "    accuracy                           0.30      1624\n",
      "   macro avg       0.12      0.19      0.12      1624\n",
      "weighted avg       0.16      0.30      0.17      1624\n",
      "\n"
     ]
    },
    {
     "data": {
      "image/png": "[encoded data removed]",
      "text/plain": [
       "<Figure size 600x500 with 2 Axes>"
      ]
     },
     "metadata": {},
     "output_type": "display_data"
    },
    {
     "name": "stdout",
     "output_type": "stream",
     "text": [
      "Epoch 0, Loss: 19.2859\n",
      "Epoch 100, Loss: 14.6980\n",
      "Epoch 200, Loss: 14.8575\n",
      "Epoch 300, Loss: 12.3107\n",
      "Epoch 400, Loss: 13.1131\n",
      "Epoch 500, Loss: 15.4423\n",
      "Epoch 600, Loss: 14.0757\n",
      "Epoch 700, Loss: 13.6478\n",
      "Epoch 800, Loss: 14.0581\n",
      "Epoch 900, Loss: 14.3387\n",
      "\n",
      "Fold 3, Accuracy: 0.2334\n",
      "Classification Report:\n",
      "              precision    recall  f1-score   support\n",
      "\n",
      "           0       0.15      0.22      0.18       248\n",
      "           1       0.00      0.00      0.00        70\n",
      "           2       0.26      0.98      0.41       330\n",
      "           3       0.00      0.00      0.00       453\n",
      "           4       0.00      0.00      0.00        57\n",
      "           5       0.00      0.00      0.00       466\n",
      "\n",
      "    accuracy                           0.23      1624\n",
      "   macro avg       0.07      0.20      0.10      1624\n",
      "weighted avg       0.08      0.23      0.11      1624\n",
      "\n"
     ]
    },
    {
     "data": {
      "image/png": "[encoded data removed]",
      "text/plain": [
       "<Figure size 600x500 with 2 Axes>"
      ]
     },
     "metadata": {},
     "output_type": "display_data"
    },
    {
     "name": "stdout",
     "output_type": "stream",
     "text": [
      "Epoch 0, Loss: 17.5704\n",
      "Epoch 100, Loss: 13.7269\n",
      "Epoch 200, Loss: 9.7286\n",
      "Epoch 300, Loss: 17.5202\n",
      "Epoch 400, Loss: 16.8880\n",
      "Epoch 500, Loss: 13.7265\n",
      "Epoch 600, Loss: 17.1113\n",
      "Epoch 700, Loss: 13.6188\n",
      "Epoch 800, Loss: 16.9565\n",
      "Epoch 900, Loss: 14.7267\n",
      "\n",
      "Fold 4, Accuracy: 0.2962\n",
      "Classification Report:\n",
      "              precision    recall  f1-score   support\n",
      "\n",
      "           0       0.00      0.00      0.00       256\n",
      "           1       0.00      0.00      0.00        77\n",
      "           2       0.59      0.18      0.28       320\n",
      "           3       0.28      0.94      0.43       447\n",
      "           4       0.00      0.00      0.00        63\n",
      "           5       0.00      0.00      0.00       461\n",
      "\n",
      "    accuracy                           0.30      1624\n",
      "   macro avg       0.14      0.19      0.12      1624\n",
      "weighted avg       0.19      0.30      0.17      1624\n",
      "\n"
     ]
    },
    {
     "data": {
      "image/png": "[encoded data removed]",
      "text/plain": [
       "<Figure size 600x500 with 2 Axes>"
      ]
     },
     "metadata": {},
     "output_type": "display_data"
    },
    {
     "name": "stdout",
     "output_type": "stream",
     "text": [
      "Epoch 0, Loss: 19.9673\n",
      "Epoch 100, Loss: 14.7944\n",
      "Epoch 200, Loss: 16.0153\n",
      "Epoch 300, Loss: 13.3781\n",
      "Epoch 400, Loss: 13.7810\n",
      "Epoch 500, Loss: 14.0213\n",
      "Epoch 600, Loss: 16.5100\n",
      "Epoch 700, Loss: 14.1127\n",
      "Epoch 800, Loss: 14.4339\n",
      "Epoch 900, Loss: 14.1156\n",
      "\n",
      "Fold 5, Accuracy: 0.3042\n",
      "Classification Report:\n",
      "              precision    recall  f1-score   support\n",
      "\n",
      "           0       0.00      0.00      0.00       249\n",
      "           1       0.00      0.00      0.00        80\n",
      "           2       0.43      0.06      0.11       293\n",
      "           3       0.00      0.00      0.00       464\n",
      "           4       0.00      0.00      0.00        60\n",
      "           5       0.30      0.99      0.46       478\n",
      "\n",
      "    accuracy                           0.30      1624\n",
      "   macro avg       0.12      0.18      0.10      1624\n",
      "weighted avg       0.17      0.30      0.16      1624\n",
      "\n"
     ]
    },
    {
     "data": {
      "image/png": "[encoded data removed]",
      "text/plain": [
       "<Figure size 600x500 with 2 Axes>"
      ]
     },
     "metadata": {},
     "output_type": "display_data"
    },
    {
     "name": "stdout",
     "output_type": "stream",
     "text": [
      "\n",
      "Average Accuracy over 5 folds: 0.2851\n",
      "\\All Folds Classification Report:\n",
      "              precision    recall  f1-score   support\n",
      "\n",
      "           0       0.17      0.14      0.15      1243\n",
      "           1       0.00      0.00      0.00       383\n",
      "           2       0.33      0.39      0.35      1550\n",
      "           3       0.28      0.18      0.22      2342\n",
      "           4       0.00      0.00      0.00       297\n",
      "           5       0.30      0.49      0.37      2305\n",
      "\n",
      "    accuracy                           0.29      8120\n",
      "   macro avg       0.18      0.20      0.18      8120\n",
      "weighted avg       0.25      0.29      0.26      8120\n",
      "\n"
     ]
    }
   ],
   "source": [
    "average_acc = k_fold_cross_validation(MultinomialLogisticRegression, X, y, k=5, lr=0.01, epochs=1000)\n"
   ]
  },
  {
   "cell_type": "markdown",
   "metadata": {},
   "source": [
    "Analysis: The average accuracy is quite low, which should be higher,but it is dealing with a small number of classes. There is a class inbalance having class 3 & 5 (Heart Failure/Pneumonia) have dominate the confusion matrix. The model barely predicts class 4 (Hip/Knee). This model is definetly underfiting which maybe more training data is needed."
   ]
  },
  {
   "cell_type": "code",
   "execution_count": null,
   "metadata": {},
   "outputs": [],
   "source": []
  },
  {
   "cell_type": "code",
   "execution_count": null,
   "metadata": {},
   "outputs": [],
   "source": []
  },
  {
   "cell_type": "markdown",
   "metadata": {},
   "source": []
  },
  {
   "cell_type": "markdown",
   "metadata": {},
   "source": []
  }
 ],
 "metadata": {
  "kernelspec": {
   "display_name": "Python 3",
   "language": "python",
   "name": "python3"
  },
  "language_info": {
   "codemirror_mode": {
    "name": "ipython",
    "version": 3
   },
   "file_extension": ".py",
   "mimetype": "text/x-python",
   "name": "python",
   "nbconvert_exporter": "python",
   "pygments_lexer": "ipython3",
   "version": "3.12.7"
  }
 },
 "nbformat": 4,
 "nbformat_minor": 2
}
