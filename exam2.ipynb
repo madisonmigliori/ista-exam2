{
 "cells": [
  {
   "cell_type": "code",
   "execution_count": 1,
   "metadata": {},
   "outputs": [],
   "source": [
    "import numpy as np \n",
    "import pandas as pd\n",
    "import matplotlib as plt \n",
    "import seaborn as sns"
   ]
  },
  {
   "cell_type": "markdown",
   "metadata": {},
   "source": [
    "## Step 1: Research Problem\n",
    "1. (5 points): If you are not familiar with this kind of scenario, but you were hired for this job in the real world, you would need to learn about it. Find two resources on the internet that are reliable and of good research quality (no forums, blogs, videos, social media, etc...)\n",
    "\n",
    "Resources: \n",
    "1. The Economic & Emotional Cost of Hospital Readmissions: Healthstream.\n",
    "- Source: https://www.healthstream.com/resource/blog/the-economic-emotional-cost-of-hospital-readmissions \n",
    "- Synopsis: \n",
    "\n",
    "2. Reducing hospital readmissions\n",
    "- Source: https://www.ncbi.nlm.nih.gov/books/NBK606114/\n",
    "- Synopsis: \n",
    "\n",
    "Citations: \n",
    "- Dhaliwal, J. S. (2024, June 7). Reducing hospital readmissions. StatPearls [Internet]. https://www.ncbi.nlm.nih.gov/books/NBK606114/ \n",
    "- The Economic & Emotional Cost of Hospital Readmissions: Healthstream. Default. (2021, April 1). https://www.healthstream.com/resource/blog/the-economic-emotional-cost-of-hospital-readmissions "
   ]
  },
  {
   "cell_type": "markdown",
   "metadata": {},
   "source": [
    "## Step 2: Download the dataset\n",
    "2. (5 points): Download this dataset and assess it using ISLP 3.3 and 3.4 (like how you did for homework 3)."
   ]
  },
  {
   "cell_type": "markdown",
   "metadata": {},
   "source": [
    "### Dataset Overview"
   ]
  },
  {
   "cell_type": "code",
   "execution_count": 2,
   "metadata": {},
   "outputs": [
    {
     "data": {
      "text/html": [
       "<div>\n",
       "<style scoped>\n",
       "    .dataframe tbody tr th:only-of-type {\n",
       "        vertical-align: middle;\n",
       "    }\n",
       "\n",
       "    .dataframe tbody tr th {\n",
       "        vertical-align: top;\n",
       "    }\n",
       "\n",
       "    .dataframe thead th {\n",
       "        text-align: right;\n",
       "    }\n",
       "</style>\n",
       "<table border=\"1\" class=\"dataframe\">\n",
       "  <thead>\n",
       "    <tr style=\"text-align: right;\">\n",
       "      <th></th>\n",
       "      <th>Facility Name</th>\n",
       "      <th>Facility ID</th>\n",
       "      <th>State</th>\n",
       "      <th>Measure Name</th>\n",
       "      <th>Number of Discharges</th>\n",
       "      <th>Footnote</th>\n",
       "      <th>Excess Readmission Ratio</th>\n",
       "      <th>Predicted Readmission Rate</th>\n",
       "      <th>Expected Readmission Rate</th>\n",
       "      <th>Number of Readmissions</th>\n",
       "      <th>Start Date</th>\n",
       "      <th>End Date</th>\n",
       "    </tr>\n",
       "  </thead>\n",
       "  <tbody>\n",
       "    <tr>\n",
       "      <th>0</th>\n",
       "      <td>SOUTHEAST HEALTH MEDICAL CENTER</td>\n",
       "      <td>10001</td>\n",
       "      <td>AL</td>\n",
       "      <td>READM-30-AMI-HRRP</td>\n",
       "      <td>296.0</td>\n",
       "      <td>NaN</td>\n",
       "      <td>0.9483</td>\n",
       "      <td>13.0146</td>\n",
       "      <td>13.7235</td>\n",
       "      <td>36</td>\n",
       "      <td>07/01/2020</td>\n",
       "      <td>06/30/2023</td>\n",
       "    </tr>\n",
       "    <tr>\n",
       "      <th>1</th>\n",
       "      <td>SOUTHEAST HEALTH MEDICAL CENTER</td>\n",
       "      <td>10001</td>\n",
       "      <td>AL</td>\n",
       "      <td>READM-30-CABG-HRRP</td>\n",
       "      <td>151.0</td>\n",
       "      <td>NaN</td>\n",
       "      <td>0.9509</td>\n",
       "      <td>9.6899</td>\n",
       "      <td>10.1898</td>\n",
       "      <td>13</td>\n",
       "      <td>07/01/2020</td>\n",
       "      <td>06/30/2023</td>\n",
       "    </tr>\n",
       "    <tr>\n",
       "      <th>2</th>\n",
       "      <td>SOUTHEAST HEALTH MEDICAL CENTER</td>\n",
       "      <td>10001</td>\n",
       "      <td>AL</td>\n",
       "      <td>READM-30-HF-HRRP</td>\n",
       "      <td>681.0</td>\n",
       "      <td>NaN</td>\n",
       "      <td>1.0597</td>\n",
       "      <td>21.5645</td>\n",
       "      <td>20.3495</td>\n",
       "      <td>151</td>\n",
       "      <td>07/01/2020</td>\n",
       "      <td>06/30/2023</td>\n",
       "    </tr>\n",
       "    <tr>\n",
       "      <th>3</th>\n",
       "      <td>SOUTHEAST HEALTH MEDICAL CENTER</td>\n",
       "      <td>10001</td>\n",
       "      <td>AL</td>\n",
       "      <td>READM-30-HIP-KNEE-HRRP</td>\n",
       "      <td>NaN</td>\n",
       "      <td>NaN</td>\n",
       "      <td>0.9654</td>\n",
       "      <td>4.2680</td>\n",
       "      <td>4.4211</td>\n",
       "      <td>Too Few to Report</td>\n",
       "      <td>07/01/2020</td>\n",
       "      <td>06/30/2023</td>\n",
       "    </tr>\n",
       "    <tr>\n",
       "      <th>4</th>\n",
       "      <td>SOUTHEAST HEALTH MEDICAL CENTER</td>\n",
       "      <td>10001</td>\n",
       "      <td>AL</td>\n",
       "      <td>READM-30-PN-HRRP</td>\n",
       "      <td>490.0</td>\n",
       "      <td>NaN</td>\n",
       "      <td>0.9715</td>\n",
       "      <td>16.1137</td>\n",
       "      <td>16.5863</td>\n",
       "      <td>77</td>\n",
       "      <td>07/01/2020</td>\n",
       "      <td>06/30/2023</td>\n",
       "    </tr>\n",
       "  </tbody>\n",
       "</table>\n",
       "</div>"
      ],
      "text/plain": [
       "                     Facility Name  Facility ID State            Measure Name  \\\n",
       "0  SOUTHEAST HEALTH MEDICAL CENTER        10001    AL       READM-30-AMI-HRRP   \n",
       "1  SOUTHEAST HEALTH MEDICAL CENTER        10001    AL      READM-30-CABG-HRRP   \n",
       "2  SOUTHEAST HEALTH MEDICAL CENTER        10001    AL        READM-30-HF-HRRP   \n",
       "3  SOUTHEAST HEALTH MEDICAL CENTER        10001    AL  READM-30-HIP-KNEE-HRRP   \n",
       "4  SOUTHEAST HEALTH MEDICAL CENTER        10001    AL        READM-30-PN-HRRP   \n",
       "\n",
       "   Number of Discharges  Footnote  Excess Readmission Ratio  \\\n",
       "0                 296.0       NaN                    0.9483   \n",
       "1                 151.0       NaN                    0.9509   \n",
       "2                 681.0       NaN                    1.0597   \n",
       "3                   NaN       NaN                    0.9654   \n",
       "4                 490.0       NaN                    0.9715   \n",
       "\n",
       "   Predicted Readmission Rate  Expected Readmission Rate  \\\n",
       "0                     13.0146                    13.7235   \n",
       "1                      9.6899                    10.1898   \n",
       "2                     21.5645                    20.3495   \n",
       "3                      4.2680                     4.4211   \n",
       "4                     16.1137                    16.5863   \n",
       "\n",
       "  Number of Readmissions  Start Date    End Date  \n",
       "0                     36  07/01/2020  06/30/2023  \n",
       "1                     13  07/01/2020  06/30/2023  \n",
       "2                    151  07/01/2020  06/30/2023  \n",
       "3      Too Few to Report  07/01/2020  06/30/2023  \n",
       "4                     77  07/01/2020  06/30/2023  "
      ]
     },
     "execution_count": 2,
     "metadata": {},
     "output_type": "execute_result"
    }
   ],
   "source": [
    "hospital_df = pd.read_csv('hospital.csv')\n",
    "hospital_df.head()"
   ]
  },
  {
   "cell_type": "code",
   "execution_count": 3,
   "metadata": {},
   "outputs": [
    {
     "data": {
      "text/plain": [
       "(18510, 12)"
      ]
     },
     "execution_count": 3,
     "metadata": {},
     "output_type": "execute_result"
    }
   ],
   "source": [
    "hospital_df.shape"
   ]
  },
  {
   "cell_type": "code",
   "execution_count": 4,
   "metadata": {},
   "outputs": [
    {
     "data": {
      "text/plain": [
       "Index(['Facility Name', 'Facility ID', 'State', 'Measure Name',\n",
       "       'Number of Discharges', 'Footnote', 'Excess Readmission Ratio',\n",
       "       'Predicted Readmission Rate', 'Expected Readmission Rate',\n",
       "       'Number of Readmissions', 'Start Date', 'End Date'],\n",
       "      dtype='object')"
      ]
     },
     "execution_count": 4,
     "metadata": {},
     "output_type": "execute_result"
    }
   ],
   "source": [
    "hospital_df.columns"
   ]
  },
  {
   "cell_type": "code",
   "execution_count": 5,
   "metadata": {},
   "outputs": [
    {
     "name": "stdout",
     "output_type": "stream",
     "text": [
      "<class 'pandas.core.frame.DataFrame'>\n",
      "RangeIndex: 18510 entries, 0 to 18509\n",
      "Data columns (total 12 columns):\n",
      " #   Column                      Non-Null Count  Dtype  \n",
      "---  ------                      --------------  -----  \n",
      " 0   Facility Name               18510 non-null  object \n",
      " 1   Facility ID                 18510 non-null  int64  \n",
      " 2   State                       18510 non-null  object \n",
      " 3   Measure Name                18510 non-null  object \n",
      " 4   Number of Discharges        8340 non-null   float64\n",
      " 5   Footnote                    6583 non-null   float64\n",
      " 6   Excess Readmission Ratio    11927 non-null  float64\n",
      " 7   Predicted Readmission Rate  11927 non-null  float64\n",
      " 8   Expected Readmission Rate   11927 non-null  float64\n",
      " 9   Number of Readmissions      11927 non-null  object \n",
      " 10  Start Date                  18510 non-null  object \n",
      " 11  End Date                    18510 non-null  object \n",
      "dtypes: float64(5), int64(1), object(6)\n",
      "memory usage: 1.7+ MB\n"
     ]
    }
   ],
   "source": [
    "hospital_df.info()"
   ]
  },
  {
   "cell_type": "code",
   "execution_count": 6,
   "metadata": {},
   "outputs": [
    {
     "data": {
      "text/html": [
       "<div>\n",
       "<style scoped>\n",
       "    .dataframe tbody tr th:only-of-type {\n",
       "        vertical-align: middle;\n",
       "    }\n",
       "\n",
       "    .dataframe tbody tr th {\n",
       "        vertical-align: top;\n",
       "    }\n",
       "\n",
       "    .dataframe thead th {\n",
       "        text-align: right;\n",
       "    }\n",
       "</style>\n",
       "<table border=\"1\" class=\"dataframe\">\n",
       "  <thead>\n",
       "    <tr style=\"text-align: right;\">\n",
       "      <th></th>\n",
       "      <th>Facility ID</th>\n",
       "      <th>Number of Discharges</th>\n",
       "      <th>Footnote</th>\n",
       "      <th>Excess Readmission Ratio</th>\n",
       "      <th>Predicted Readmission Rate</th>\n",
       "      <th>Expected Readmission Rate</th>\n",
       "    </tr>\n",
       "  </thead>\n",
       "  <tbody>\n",
       "    <tr>\n",
       "      <th>count</th>\n",
       "      <td>18510.000000</td>\n",
       "      <td>8340.000000</td>\n",
       "      <td>6583.000000</td>\n",
       "      <td>11927.000000</td>\n",
       "      <td>11927.000000</td>\n",
       "      <td>11927.000000</td>\n",
       "    </tr>\n",
       "    <tr>\n",
       "      <th>mean</th>\n",
       "      <td>261770.055105</td>\n",
       "      <td>279.269904</td>\n",
       "      <td>3.187756</td>\n",
       "      <td>1.001719</td>\n",
       "      <td>14.995386</td>\n",
       "      <td>14.961234</td>\n",
       "    </tr>\n",
       "    <tr>\n",
       "      <th>std</th>\n",
       "      <td>164647.739172</td>\n",
       "      <td>266.018069</td>\n",
       "      <td>2.089167</td>\n",
       "      <td>0.080547</td>\n",
       "      <td>5.017854</td>\n",
       "      <td>4.871997</td>\n",
       "    </tr>\n",
       "    <tr>\n",
       "      <th>min</th>\n",
       "      <td>10001.000000</td>\n",
       "      <td>0.000000</td>\n",
       "      <td>1.000000</td>\n",
       "      <td>0.477900</td>\n",
       "      <td>1.674200</td>\n",
       "      <td>2.892100</td>\n",
       "    </tr>\n",
       "    <tr>\n",
       "      <th>25%</th>\n",
       "      <td>110073.000000</td>\n",
       "      <td>115.000000</td>\n",
       "      <td>1.000000</td>\n",
       "      <td>0.956550</td>\n",
       "      <td>12.533000</td>\n",
       "      <td>12.612800</td>\n",
       "    </tr>\n",
       "    <tr>\n",
       "      <th>50%</th>\n",
       "      <td>250048.000000</td>\n",
       "      <td>197.000000</td>\n",
       "      <td>5.000000</td>\n",
       "      <td>0.998200</td>\n",
       "      <td>16.060200</td>\n",
       "      <td>16.146000</td>\n",
       "    </tr>\n",
       "    <tr>\n",
       "      <th>75%</th>\n",
       "      <td>390133.000000</td>\n",
       "      <td>354.000000</td>\n",
       "      <td>5.000000</td>\n",
       "      <td>1.043000</td>\n",
       "      <td>18.609000</td>\n",
       "      <td>18.667350</td>\n",
       "    </tr>\n",
       "    <tr>\n",
       "      <th>max</th>\n",
       "      <td>670327.000000</td>\n",
       "      <td>4501.000000</td>\n",
       "      <td>7.000000</td>\n",
       "      <td>1.643000</td>\n",
       "      <td>27.809500</td>\n",
       "      <td>25.394200</td>\n",
       "    </tr>\n",
       "  </tbody>\n",
       "</table>\n",
       "</div>"
      ],
      "text/plain": [
       "         Facility ID  Number of Discharges     Footnote  \\\n",
       "count   18510.000000           8340.000000  6583.000000   \n",
       "mean   261770.055105            279.269904     3.187756   \n",
       "std    164647.739172            266.018069     2.089167   \n",
       "min     10001.000000              0.000000     1.000000   \n",
       "25%    110073.000000            115.000000     1.000000   \n",
       "50%    250048.000000            197.000000     5.000000   \n",
       "75%    390133.000000            354.000000     5.000000   \n",
       "max    670327.000000           4501.000000     7.000000   \n",
       "\n",
       "       Excess Readmission Ratio  Predicted Readmission Rate  \\\n",
       "count              11927.000000                11927.000000   \n",
       "mean                   1.001719                   14.995386   \n",
       "std                    0.080547                    5.017854   \n",
       "min                    0.477900                    1.674200   \n",
       "25%                    0.956550                   12.533000   \n",
       "50%                    0.998200                   16.060200   \n",
       "75%                    1.043000                   18.609000   \n",
       "max                    1.643000                   27.809500   \n",
       "\n",
       "       Expected Readmission Rate  \n",
       "count               11927.000000  \n",
       "mean                   14.961234  \n",
       "std                     4.871997  \n",
       "min                     2.892100  \n",
       "25%                    12.612800  \n",
       "50%                    16.146000  \n",
       "75%                    18.667350  \n",
       "max                    25.394200  "
      ]
     },
     "execution_count": 6,
     "metadata": {},
     "output_type": "execute_result"
    }
   ],
   "source": [
    "hospital_df.describe()"
   ]
  },
  {
   "cell_type": "markdown",
   "metadata": {},
   "source": [
    "### Dataset Preprocessing"
   ]
  },
  {
   "cell_type": "code",
   "execution_count": 7,
   "metadata": {},
   "outputs": [
    {
     "data": {
      "text/html": [
       "<div>\n",
       "<style scoped>\n",
       "    .dataframe tbody tr th:only-of-type {\n",
       "        vertical-align: middle;\n",
       "    }\n",
       "\n",
       "    .dataframe tbody tr th {\n",
       "        vertical-align: top;\n",
       "    }\n",
       "\n",
       "    .dataframe thead th {\n",
       "        text-align: right;\n",
       "    }\n",
       "</style>\n",
       "<table border=\"1\" class=\"dataframe\">\n",
       "  <thead>\n",
       "    <tr style=\"text-align: right;\">\n",
       "      <th></th>\n",
       "      <th>Facility Name</th>\n",
       "      <th>Facility ID</th>\n",
       "      <th>State</th>\n",
       "      <th>Measure Name</th>\n",
       "      <th>Number of Discharges</th>\n",
       "      <th>Footnote</th>\n",
       "      <th>Excess Readmission Ratio</th>\n",
       "      <th>Predicted Readmission Rate</th>\n",
       "      <th>Expected Readmission Rate</th>\n",
       "      <th>Number of Readmissions</th>\n",
       "      <th>Start Date</th>\n",
       "      <th>End Date</th>\n",
       "    </tr>\n",
       "  </thead>\n",
       "  <tbody>\n",
       "    <tr>\n",
       "      <th>0</th>\n",
       "      <td>False</td>\n",
       "      <td>False</td>\n",
       "      <td>False</td>\n",
       "      <td>False</td>\n",
       "      <td>False</td>\n",
       "      <td>True</td>\n",
       "      <td>False</td>\n",
       "      <td>False</td>\n",
       "      <td>False</td>\n",
       "      <td>False</td>\n",
       "      <td>False</td>\n",
       "      <td>False</td>\n",
       "    </tr>\n",
       "    <tr>\n",
       "      <th>1</th>\n",
       "      <td>False</td>\n",
       "      <td>False</td>\n",
       "      <td>False</td>\n",
       "      <td>False</td>\n",
       "      <td>False</td>\n",
       "      <td>True</td>\n",
       "      <td>False</td>\n",
       "      <td>False</td>\n",
       "      <td>False</td>\n",
       "      <td>False</td>\n",
       "      <td>False</td>\n",
       "      <td>False</td>\n",
       "    </tr>\n",
       "    <tr>\n",
       "      <th>2</th>\n",
       "      <td>False</td>\n",
       "      <td>False</td>\n",
       "      <td>False</td>\n",
       "      <td>False</td>\n",
       "      <td>False</td>\n",
       "      <td>True</td>\n",
       "      <td>False</td>\n",
       "      <td>False</td>\n",
       "      <td>False</td>\n",
       "      <td>False</td>\n",
       "      <td>False</td>\n",
       "      <td>False</td>\n",
       "    </tr>\n",
       "    <tr>\n",
       "      <th>3</th>\n",
       "      <td>False</td>\n",
       "      <td>False</td>\n",
       "      <td>False</td>\n",
       "      <td>False</td>\n",
       "      <td>True</td>\n",
       "      <td>True</td>\n",
       "      <td>False</td>\n",
       "      <td>False</td>\n",
       "      <td>False</td>\n",
       "      <td>False</td>\n",
       "      <td>False</td>\n",
       "      <td>False</td>\n",
       "    </tr>\n",
       "    <tr>\n",
       "      <th>4</th>\n",
       "      <td>False</td>\n",
       "      <td>False</td>\n",
       "      <td>False</td>\n",
       "      <td>False</td>\n",
       "      <td>False</td>\n",
       "      <td>True</td>\n",
       "      <td>False</td>\n",
       "      <td>False</td>\n",
       "      <td>False</td>\n",
       "      <td>False</td>\n",
       "      <td>False</td>\n",
       "      <td>False</td>\n",
       "    </tr>\n",
       "    <tr>\n",
       "      <th>...</th>\n",
       "      <td>...</td>\n",
       "      <td>...</td>\n",
       "      <td>...</td>\n",
       "      <td>...</td>\n",
       "      <td>...</td>\n",
       "      <td>...</td>\n",
       "      <td>...</td>\n",
       "      <td>...</td>\n",
       "      <td>...</td>\n",
       "      <td>...</td>\n",
       "      <td>...</td>\n",
       "      <td>...</td>\n",
       "    </tr>\n",
       "    <tr>\n",
       "      <th>18505</th>\n",
       "      <td>False</td>\n",
       "      <td>False</td>\n",
       "      <td>False</td>\n",
       "      <td>False</td>\n",
       "      <td>True</td>\n",
       "      <td>False</td>\n",
       "      <td>True</td>\n",
       "      <td>True</td>\n",
       "      <td>True</td>\n",
       "      <td>True</td>\n",
       "      <td>False</td>\n",
       "      <td>False</td>\n",
       "    </tr>\n",
       "    <tr>\n",
       "      <th>18506</th>\n",
       "      <td>False</td>\n",
       "      <td>False</td>\n",
       "      <td>False</td>\n",
       "      <td>False</td>\n",
       "      <td>True</td>\n",
       "      <td>False</td>\n",
       "      <td>True</td>\n",
       "      <td>True</td>\n",
       "      <td>True</td>\n",
       "      <td>True</td>\n",
       "      <td>False</td>\n",
       "      <td>False</td>\n",
       "    </tr>\n",
       "    <tr>\n",
       "      <th>18507</th>\n",
       "      <td>False</td>\n",
       "      <td>False</td>\n",
       "      <td>False</td>\n",
       "      <td>False</td>\n",
       "      <td>True</td>\n",
       "      <td>False</td>\n",
       "      <td>True</td>\n",
       "      <td>True</td>\n",
       "      <td>True</td>\n",
       "      <td>True</td>\n",
       "      <td>False</td>\n",
       "      <td>False</td>\n",
       "    </tr>\n",
       "    <tr>\n",
       "      <th>18508</th>\n",
       "      <td>False</td>\n",
       "      <td>False</td>\n",
       "      <td>False</td>\n",
       "      <td>False</td>\n",
       "      <td>True</td>\n",
       "      <td>False</td>\n",
       "      <td>True</td>\n",
       "      <td>True</td>\n",
       "      <td>True</td>\n",
       "      <td>True</td>\n",
       "      <td>False</td>\n",
       "      <td>False</td>\n",
       "    </tr>\n",
       "    <tr>\n",
       "      <th>18509</th>\n",
       "      <td>False</td>\n",
       "      <td>False</td>\n",
       "      <td>False</td>\n",
       "      <td>False</td>\n",
       "      <td>True</td>\n",
       "      <td>False</td>\n",
       "      <td>True</td>\n",
       "      <td>True</td>\n",
       "      <td>True</td>\n",
       "      <td>True</td>\n",
       "      <td>False</td>\n",
       "      <td>False</td>\n",
       "    </tr>\n",
       "  </tbody>\n",
       "</table>\n",
       "<p>18510 rows × 12 columns</p>\n",
       "</div>"
      ],
      "text/plain": [
       "       Facility Name  Facility ID  State  Measure Name  Number of Discharges  \\\n",
       "0              False        False  False         False                 False   \n",
       "1              False        False  False         False                 False   \n",
       "2              False        False  False         False                 False   \n",
       "3              False        False  False         False                  True   \n",
       "4              False        False  False         False                 False   \n",
       "...              ...          ...    ...           ...                   ...   \n",
       "18505          False        False  False         False                  True   \n",
       "18506          False        False  False         False                  True   \n",
       "18507          False        False  False         False                  True   \n",
       "18508          False        False  False         False                  True   \n",
       "18509          False        False  False         False                  True   \n",
       "\n",
       "       Footnote  Excess Readmission Ratio  Predicted Readmission Rate  \\\n",
       "0          True                     False                       False   \n",
       "1          True                     False                       False   \n",
       "2          True                     False                       False   \n",
       "3          True                     False                       False   \n",
       "4          True                     False                       False   \n",
       "...         ...                       ...                         ...   \n",
       "18505     False                      True                        True   \n",
       "18506     False                      True                        True   \n",
       "18507     False                      True                        True   \n",
       "18508     False                      True                        True   \n",
       "18509     False                      True                        True   \n",
       "\n",
       "       Expected Readmission Rate  Number of Readmissions  Start Date  End Date  \n",
       "0                          False                   False       False     False  \n",
       "1                          False                   False       False     False  \n",
       "2                          False                   False       False     False  \n",
       "3                          False                   False       False     False  \n",
       "4                          False                   False       False     False  \n",
       "...                          ...                     ...         ...       ...  \n",
       "18505                       True                    True       False     False  \n",
       "18506                       True                    True       False     False  \n",
       "18507                       True                    True       False     False  \n",
       "18508                       True                    True       False     False  \n",
       "18509                       True                    True       False     False  \n",
       "\n",
       "[18510 rows x 12 columns]"
      ]
     },
     "execution_count": 7,
     "metadata": {},
     "output_type": "execute_result"
    }
   ],
   "source": [
    "hospital_df.isna()"
   ]
  },
  {
   "cell_type": "code",
   "execution_count": 8,
   "metadata": {},
   "outputs": [
    {
     "data": {
      "text/plain": [
       "Facility Name                     0\n",
       "Facility ID                       0\n",
       "State                             0\n",
       "Measure Name                      0\n",
       "Number of Discharges          10170\n",
       "Footnote                      11927\n",
       "Excess Readmission Ratio       6583\n",
       "Predicted Readmission Rate     6583\n",
       "Expected Readmission Rate      6583\n",
       "Number of Readmissions         6583\n",
       "Start Date                        0\n",
       "End Date                          0\n",
       "dtype: int64"
      ]
     },
     "execution_count": 8,
     "metadata": {},
     "output_type": "execute_result"
    }
   ],
   "source": [
    "hospital_df.isna().sum()"
   ]
  },
  {
   "cell_type": "code",
   "execution_count": 9,
   "metadata": {},
   "outputs": [],
   "source": [
    "## I tried making a subset with droping only NA for footnotes but then it deleted the whole dataset so therefore I am removing the column since its justs about notes\n",
    "hospital_df.drop(columns=['Footnote'], inplace=True)\n"
   ]
  },
  {
   "cell_type": "code",
   "execution_count": 10,
   "metadata": {},
   "outputs": [],
   "source": [
    "hospital_df_clean = hospital_df.dropna(subset=[\n",
    "    \"Number of Discharges\",\n",
    "    \"Excess Readmission Ratio\",\n",
    "    \"Predicted Readmission Rate\",\n",
    "    \"Expected Readmission Rate\",\n",
    "    \"Number of Readmissions\"\n",
    "])"
   ]
  },
  {
   "cell_type": "code",
   "execution_count": 11,
   "metadata": {},
   "outputs": [
    {
     "data": {
      "text/plain": [
       "(8121, 11)"
      ]
     },
     "execution_count": 11,
     "metadata": {},
     "output_type": "execute_result"
    }
   ],
   "source": [
    "hospital_df_clean.shape"
   ]
  },
  {
   "cell_type": "code",
   "execution_count": 12,
   "metadata": {},
   "outputs": [
    {
     "data": {
      "text/plain": [
       "Facility Name                 0\n",
       "Facility ID                   0\n",
       "State                         0\n",
       "Measure Name                  0\n",
       "Number of Discharges          0\n",
       "Excess Readmission Ratio      0\n",
       "Predicted Readmission Rate    0\n",
       "Expected Readmission Rate     0\n",
       "Number of Readmissions        0\n",
       "Start Date                    0\n",
       "End Date                      0\n",
       "dtype: int64"
      ]
     },
     "execution_count": 12,
     "metadata": {},
     "output_type": "execute_result"
    }
   ],
   "source": [
    "hospital_df_clean.isna().sum()"
   ]
  },
  {
   "cell_type": "markdown",
   "metadata": {},
   "source": [
    "## Step 3: Describe Each Variable\n",
    "3. (5 points): Describe each of the 12 variables in your own words, then mention the datatype of each."
   ]
  },
  {
   "cell_type": "markdown",
   "metadata": {},
   "source": [
    "**Facility Name:**\n",
    "- The name of the hospital\n",
    "\n",
    "**Facility ID:**\n",
    "- The id of the hospital\n",
    "\n",
    "**State:** \n",
    "- The state where the hospital is located\n",
    "\n",
    "**Measure Name:** \n",
    "- The medical condition that is causing the readmission\n",
    "\n",
    "**Number of Discharges:** \n",
    "- The total number of patients for that specific medical condition\n",
    "\n",
    "**Footnote:** \n",
    "- Notes about the medical condition\n",
    "\n",
    "**Excess Readmission Ratio:** \n",
    "- The rate comparing to expected readmission rate\n",
    "\n",
    "**Predicted Readmission Rate:** \n",
    "- The predict percentage that patients will be readmitted\n",
    "\n",
    "**Expected Readmission Rate:** \n",
    "- The expected percentage that patients will be readmitted\n",
    "\n",
    "**Number of Readmissions:** \n",
    "- The actual number of readmitted patients\n",
    "\n",
    "**Start Date:** \n",
    "- The start date of the data being collected\n",
    "\n",
    " **End Date:**\n",
    " - The end date of the data being collected                   "
   ]
  },
  {
   "cell_type": "code",
   "execution_count": 13,
   "metadata": {},
   "outputs": [
    {
     "data": {
      "text/plain": [
       "Facility Name                  object\n",
       "Facility ID                     int64\n",
       "State                          object\n",
       "Measure Name                   object\n",
       "Number of Discharges          float64\n",
       "Excess Readmission Ratio      float64\n",
       "Predicted Readmission Rate    float64\n",
       "Expected Readmission Rate     float64\n",
       "Number of Readmissions         object\n",
       "Start Date                     object\n",
       "End Date                       object\n",
       "dtype: object"
      ]
     },
     "execution_count": 13,
     "metadata": {},
     "output_type": "execute_result"
    }
   ],
   "source": [
    "hospital_df.dtypes\n",
    "\n",
    "## Drop Footnote but was a float64"
   ]
  },
  {
   "cell_type": "code",
   "execution_count": 14,
   "metadata": {},
   "outputs": [],
   "source": [
    "hospital_df_clean = hospital_df_clean.copy()\n",
    "\n",
    "hospital_df_clean[\"Number of Readmissions\"] = pd.to_numeric(hospital_df_clean[\"Number of Readmissions\"], errors=\"coerce\")\n",
    "hospital_df_clean[\"Start Date\"] = pd.to_datetime(hospital_df_clean[\"Start Date\"])\n",
    "hospital_df_clean[\"End Date\"] = pd.to_datetime(hospital_df_clean[\"End Date\"])\n"
   ]
  },
  {
   "cell_type": "code",
   "execution_count": 15,
   "metadata": {},
   "outputs": [
    {
     "data": {
      "text/plain": [
       "Facility Name                         object\n",
       "Facility ID                            int64\n",
       "State                                 object\n",
       "Measure Name                          object\n",
       "Number of Discharges                 float64\n",
       "Excess Readmission Ratio             float64\n",
       "Predicted Readmission Rate           float64\n",
       "Expected Readmission Rate            float64\n",
       "Number of Readmissions                 int64\n",
       "Start Date                    datetime64[ns]\n",
       "End Date                      datetime64[ns]\n",
       "dtype: object"
      ]
     },
     "execution_count": 15,
     "metadata": {},
     "output_type": "execute_result"
    }
   ],
   "source": [
    "hospital_df_clean.dtypes"
   ]
  },
  {
   "cell_type": "markdown",
   "metadata": {},
   "source": [
    "## Step 4: Research Question\n",
    "- (5 points): Form your research question that can be answered by this dataset."
   ]
  },
  {
   "cell_type": "code",
   "execution_count": 17,
   "metadata": {},
   "outputs": [
    {
     "data": {
      "text/html": [
       "<div>\n",
       "<style scoped>\n",
       "    .dataframe tbody tr th:only-of-type {\n",
       "        vertical-align: middle;\n",
       "    }\n",
       "\n",
       "    .dataframe tbody tr th {\n",
       "        vertical-align: top;\n",
       "    }\n",
       "\n",
       "    .dataframe thead th {\n",
       "        text-align: right;\n",
       "    }\n",
       "</style>\n",
       "<table border=\"1\" class=\"dataframe\">\n",
       "  <thead>\n",
       "    <tr style=\"text-align: right;\">\n",
       "      <th></th>\n",
       "      <th>Facility ID</th>\n",
       "      <th>Number of Discharges</th>\n",
       "      <th>Excess Readmission Ratio</th>\n",
       "      <th>Predicted Readmission Rate</th>\n",
       "      <th>Expected Readmission Rate</th>\n",
       "      <th>Number of Readmissions</th>\n",
       "      <th>Start Date</th>\n",
       "      <th>End Date</th>\n",
       "    </tr>\n",
       "  </thead>\n",
       "  <tbody>\n",
       "    <tr>\n",
       "      <th>count</th>\n",
       "      <td>8121.000000</td>\n",
       "      <td>8121.00000</td>\n",
       "      <td>8121.000000</td>\n",
       "      <td>8121.000000</td>\n",
       "      <td>8121.000000</td>\n",
       "      <td>8121.000000</td>\n",
       "      <td>8121</td>\n",
       "      <td>8121</td>\n",
       "    </tr>\n",
       "    <tr>\n",
       "      <th>mean</th>\n",
       "      <td>256179.848295</td>\n",
       "      <td>286.80101</td>\n",
       "      <td>1.009233</td>\n",
       "      <td>16.696794</td>\n",
       "      <td>16.549613</td>\n",
       "      <td>48.074868</td>\n",
       "      <td>2020-06-30 23:59:59.999999744</td>\n",
       "      <td>2023-06-30 00:00:00</td>\n",
       "    </tr>\n",
       "    <tr>\n",
       "      <th>min</th>\n",
       "      <td>10001.000000</td>\n",
       "      <td>25.00000</td>\n",
       "      <td>0.477900</td>\n",
       "      <td>1.674200</td>\n",
       "      <td>2.892100</td>\n",
       "      <td>11.000000</td>\n",
       "      <td>2020-07-01 00:00:00</td>\n",
       "      <td>2023-06-30 00:00:00</td>\n",
       "    </tr>\n",
       "    <tr>\n",
       "      <th>25%</th>\n",
       "      <td>110042.000000</td>\n",
       "      <td>120.00000</td>\n",
       "      <td>0.963500</td>\n",
       "      <td>14.701200</td>\n",
       "      <td>14.779000</td>\n",
       "      <td>19.000000</td>\n",
       "      <td>2020-07-01 00:00:00</td>\n",
       "      <td>2023-06-30 00:00:00</td>\n",
       "    </tr>\n",
       "    <tr>\n",
       "      <th>50%</th>\n",
       "      <td>250001.000000</td>\n",
       "      <td>203.00000</td>\n",
       "      <td>1.007200</td>\n",
       "      <td>17.258700</td>\n",
       "      <td>17.185500</td>\n",
       "      <td>31.000000</td>\n",
       "      <td>2020-07-01 00:00:00</td>\n",
       "      <td>2023-06-30 00:00:00</td>\n",
       "    </tr>\n",
       "    <tr>\n",
       "      <th>75%</th>\n",
       "      <td>390001.000000</td>\n",
       "      <td>361.00000</td>\n",
       "      <td>1.052700</td>\n",
       "      <td>19.324900</td>\n",
       "      <td>19.200500</td>\n",
       "      <td>59.000000</td>\n",
       "      <td>2020-07-01 00:00:00</td>\n",
       "      <td>2023-06-30 00:00:00</td>\n",
       "    </tr>\n",
       "    <tr>\n",
       "      <th>max</th>\n",
       "      <td>670260.000000</td>\n",
       "      <td>4501.00000</td>\n",
       "      <td>1.643000</td>\n",
       "      <td>27.809500</td>\n",
       "      <td>25.394200</td>\n",
       "      <td>877.000000</td>\n",
       "      <td>2020-07-01 00:00:00</td>\n",
       "      <td>2023-06-30 00:00:00</td>\n",
       "    </tr>\n",
       "    <tr>\n",
       "      <th>std</th>\n",
       "      <td>155404.795012</td>\n",
       "      <td>265.54472</td>\n",
       "      <td>0.078230</td>\n",
       "      <td>3.862805</td>\n",
       "      <td>3.656800</td>\n",
       "      <td>48.488707</td>\n",
       "      <td>NaN</td>\n",
       "      <td>NaN</td>\n",
       "    </tr>\n",
       "  </tbody>\n",
       "</table>\n",
       "</div>"
      ],
      "text/plain": [
       "         Facility ID  Number of Discharges  Excess Readmission Ratio  \\\n",
       "count    8121.000000            8121.00000               8121.000000   \n",
       "mean   256179.848295             286.80101                  1.009233   \n",
       "min     10001.000000              25.00000                  0.477900   \n",
       "25%    110042.000000             120.00000                  0.963500   \n",
       "50%    250001.000000             203.00000                  1.007200   \n",
       "75%    390001.000000             361.00000                  1.052700   \n",
       "max    670260.000000            4501.00000                  1.643000   \n",
       "std    155404.795012             265.54472                  0.078230   \n",
       "\n",
       "       Predicted Readmission Rate  Expected Readmission Rate  \\\n",
       "count                 8121.000000                8121.000000   \n",
       "mean                    16.696794                  16.549613   \n",
       "min                      1.674200                   2.892100   \n",
       "25%                     14.701200                  14.779000   \n",
       "50%                     17.258700                  17.185500   \n",
       "75%                     19.324900                  19.200500   \n",
       "max                     27.809500                  25.394200   \n",
       "std                      3.862805                   3.656800   \n",
       "\n",
       "       Number of Readmissions                     Start Date  \\\n",
       "count             8121.000000                           8121   \n",
       "mean                48.074868  2020-06-30 23:59:59.999999744   \n",
       "min                 11.000000            2020-07-01 00:00:00   \n",
       "25%                 19.000000            2020-07-01 00:00:00   \n",
       "50%                 31.000000            2020-07-01 00:00:00   \n",
       "75%                 59.000000            2020-07-01 00:00:00   \n",
       "max                877.000000            2020-07-01 00:00:00   \n",
       "std                 48.488707                            NaN   \n",
       "\n",
       "                  End Date  \n",
       "count                 8121  \n",
       "mean   2023-06-30 00:00:00  \n",
       "min    2023-06-30 00:00:00  \n",
       "25%    2023-06-30 00:00:00  \n",
       "50%    2023-06-30 00:00:00  \n",
       "75%    2023-06-30 00:00:00  \n",
       "max    2023-06-30 00:00:00  \n",
       "std                    NaN  "
      ]
     },
     "execution_count": 17,
     "metadata": {},
     "output_type": "execute_result"
    }
   ],
   "source": [
    "hospital_df_clean.describe()"
   ]
  },
  {
   "cell_type": "code",
   "execution_count": 18,
   "metadata": {},
   "outputs": [
    {
     "data": {
      "text/plain": [
       "array(['READM-30-AMI-HRRP', 'READM-30-CABG-HRRP', 'READM-30-HF-HRRP',\n",
       "       'READM-30-PN-HRRP', 'READM-30-COPD-HRRP', 'READM-30-HIP-KNEE-HRRP'],\n",
       "      dtype=object)"
      ]
     },
     "execution_count": 18,
     "metadata": {},
     "output_type": "execute_result"
    }
   ],
   "source": [
    "hospital_df_clean[\"Measure Name\"].unique()\n"
   ]
  },
  {
   "cell_type": "code",
   "execution_count": 19,
   "metadata": {},
   "outputs": [
    {
     "data": {
      "text/plain": [
       "6"
      ]
     },
     "execution_count": 19,
     "metadata": {},
     "output_type": "execute_result"
    }
   ],
   "source": [
    "hospital_df_clean[\"Measure Name\"].nunique()\n"
   ]
  },
  {
   "cell_type": "code",
   "execution_count": 20,
   "metadata": {},
   "outputs": [
    {
     "data": {
      "text/plain": [
       "Measure Name\n",
       "READM-30-HF-HRRP          2342\n",
       "READM-30-PN-HRRP          2305\n",
       "READM-30-COPD-HRRP        1550\n",
       "READM-30-AMI-HRRP         1244\n",
       "READM-30-CABG-HRRP         383\n",
       "READM-30-HIP-KNEE-HRRP     297\n",
       "Name: count, dtype: int64"
      ]
     },
     "execution_count": 20,
     "metadata": {},
     "output_type": "execute_result"
    }
   ],
   "source": [
    "hospital_df_clean[\"Measure Name\"].value_counts()\n"
   ]
  },
  {
   "cell_type": "markdown",
   "metadata": {},
   "source": [
    "*Data Dictionary:*\n",
    "- READM-30-HF-HRRP: Heart Failure\n",
    "- READM-30-PN-HRRP: Pneumonia\n",
    "- READM-30-COPD-HRRP: Chronic Obstructive Pulmonary Disease\n",
    "- READM-30-AMI-HRRP: Acute Myocardial Infarction\n",
    "- READM-30-CABG-HRRP: Coronary Artery Bypass Graft\n",
    "- READM-30-HIP-KNEE-HRRP: Total Hip/Knee Arthroplasty"
   ]
  },
  {
   "cell_type": "markdown",
   "metadata": {},
   "source": [
    "### *Research Question*\n",
    "\n",
    "What is the possibility based off the type of condition based on the predicted readmission rates and number of discharges?\n",
    "\n",
    "\n"
   ]
  },
  {
   "cell_type": "markdown",
   "metadata": {},
   "source": [
    "## Step 5: Justifying to Board\n",
    "- (5 points): Explain why your research question would be interesting to the board-- do not tailor your research question to me just because I'm your machine learning instructor. I'm interested in your model, but the board cares about money/patients"
   ]
  },
  {
   "cell_type": "markdown",
   "metadata": {},
   "source": [
    "### Justification\n",
    "- By anaylzing the predicted readmission rates based off the type of conditions, hospitals can cater to those patients, which could save money on excessive/unnessecary treatment, ensure being discharge instructions, and overall improving the patient care. This insight can provide the hospital new evidence to better use resource, potentially save money, and happier patients :). Happier Patients means less patients which means staff doesn't have to be burned out and meaning we are conserving resources. "
   ]
  },
  {
   "cell_type": "markdown",
   "metadata": {},
   "source": [
    "## Step 6: Logistic Regression (Multi) \n",
    "- (40 points): Choose any algorithm from chapter 5, 6, 7, or 8 to answer your research question. Explain your choice. For example, if you choose Lasso then be sure you apply lasso to your logistic or linear regression model. If you choose a decision tree, make sure your choice is informative for the board. Not too easy or insulting."
   ]
  }
 ],
 "metadata": {
  "kernelspec": {
   "display_name": "Python 3",
   "language": "python",
   "name": "python3"
  },
  "language_info": {
   "codemirror_mode": {
    "name": "ipython",
    "version": 3
   },
   "file_extension": ".py",
   "mimetype": "text/x-python",
   "name": "python",
   "nbconvert_exporter": "python",
   "pygments_lexer": "ipython3",
   "version": "3.12.7"
  }
 },
 "nbformat": 4,
 "nbformat_minor": 2
}
